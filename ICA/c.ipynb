{
 "cells": [
  {
   "cell_type": "code",
   "execution_count": 91,
   "metadata": {},
   "outputs": [],
   "source": [
    "import numpy as np"
   ]
  },
  {
   "cell_type": "code",
   "execution_count": 92,
   "metadata": {},
   "outputs": [],
   "source": [
    "#   .txt\n",
    "file_name = 'test.txt'"
   ]
  },
  {
   "cell_type": "markdown",
   "metadata": {},
   "source": [
    "### Deliverable 1\n"
   ]
  },
  {
   "cell_type": "code",
   "execution_count": 93,
   "metadata": {},
   "outputs": [
    {
     "name": "stdout",
     "output_type": "stream",
     "text": [
      "Total number of characters: 1799 \n",
      "Number of distinct characters: 42 \n",
      "Total number of bits needed to encode the text: 6728.26 \n",
      "Average number of bits per character: 3.74\n"
     ]
    }
   ],
   "source": [
    "file = open(file_name, 'r')\n",
    "content = file.read()\n",
    "file.close()\n",
    "\n",
    "num_char = len(content)\n",
    "\n",
    "unique_char = set(content)\n",
    "num_unique_char = len(unique_char)\n",
    "\n",
    "# each character is encoded by the same number of bits\n",
    "average_bit = np.round((np.log(num_unique_char)), 2)\n",
    "total_bit = average_bit * num_char\n",
    "\n",
    "# print(content, end='\\n\\n')\n",
    "# print(unique_char, end='\\n\\n')\n",
    "\n",
    "print('Total number of characters: {} \\nNumber of distinct characters: {} \\nTotal number of bits needed to encode the text: {} \\nAverage number of bits per character: {}'.format(\n",
    "    num_char, num_unique_char, total_bit, average_bit))"
   ]
  },
  {
   "cell_type": "markdown",
   "metadata": {},
   "source": [
    "### Deliverable 2\n"
   ]
  },
  {
   "cell_type": "code",
   "execution_count": 94,
   "metadata": {},
   "outputs": [
    {
     "name": "stdout",
     "output_type": "stream",
     "text": [
      "[' ', 'e', 't', 'o', 'a', 'i', 's', 'h', 'n', 'r', 'd', 'l', 'f', 'g', 'u', 'c', 'w', 'm', 'b', 'p', '\\n', 'y', '.', ',', 'v', 'k', '’', 'T', 'H', '—', '?', 'S', 'O', 'C', '-', 'F', 'A', 'B', 'I', 'q', 'x', 'N']\n",
      "Total numer of bits: 14754 \n",
      "Average number of bits: 8.2\n"
     ]
    }
   ],
   "source": [
    "file = open(file_name, 'r')\n",
    "content = file.read()\n",
    "file.close()\n",
    "\n",
    "num_char = len(content)\n",
    "\n",
    "char_freq = dict()\n",
    "for char in content:\n",
    "    char_freq[char] = char_freq.get(char, 0) + 1\n",
    "\n",
    "# sort unique characters by frequency in descending order\n",
    "sorted_unique_chars = sorted(\n",
    "    char_freq.keys(), key=lambda char: char_freq[char], reverse=True)\n",
    "\n",
    "print(sorted_unique_chars)\n",
    "\n",
    "total_bit = 0\n",
    "i = 1\n",
    "for char in sorted_unique_chars:\n",
    "    total_bit += char_freq[char] * i\n",
    "    i += 1\n",
    "\n",
    "average_bit = np.round(total_bit / num_char, 2)\n",
    "\n",
    "print('Total numer of bits: {} \\nAverage number of bits: {}'.format(\n",
    "    total_bit, average_bit))"
   ]
  },
  {
   "cell_type": "markdown",
   "metadata": {},
   "source": [
    "### Deliverable 3\n"
   ]
  },
  {
   "cell_type": "code",
   "execution_count": 95,
   "metadata": {},
   "outputs": [],
   "source": [
    "class Node:\n",
    "    def __init__(self, chars, freq, left=None, right=None):\n",
    "        self.chars = chars\n",
    "        self.freq = freq\n",
    "        self.left = left\n",
    "        self.right = right"
   ]
  },
  {
   "cell_type": "code",
   "execution_count": 96,
   "metadata": {},
   "outputs": [],
   "source": [
    "def get_char_freq(file_name):\n",
    "    file = open(file_name, 'r')\n",
    "    content = file.read()\n",
    "    file.close()\n",
    "\n",
    "    char_freq = dict()\n",
    "    for char in content:\n",
    "        char_freq[char] = char_freq.get(char, 0) + 1\n",
    "\n",
    "    return char_freq"
   ]
  },
  {
   "cell_type": "code",
   "execution_count": 97,
   "metadata": {},
   "outputs": [],
   "source": [
    "def create_node(char_freq):\n",
    "    nodes = list()\n",
    "\n",
    "    for char, freq in char_freq.items():\n",
    "        nodes.append(Node([char], freq))\n",
    "\n",
    "    return nodes"
   ]
  },
  {
   "cell_type": "code",
   "execution_count": 98,
   "metadata": {},
   "outputs": [],
   "source": [
    "def merge_trees(left_root, right_root):\n",
    "    chars = list(set(left_root.chars + right_root.chars))\n",
    "    freq = left_root.freq + right_root.freq\n",
    "\n",
    "    return Node(chars, freq, left_root, right_root)"
   ]
  },
  {
   "cell_type": "code",
   "execution_count": 99,
   "metadata": {},
   "outputs": [],
   "source": [
    "def create_binary_tree(nodes):\n",
    "    sorted_nodes = sorted(nodes, key=lambda x: x.freq)\n",
    "\n",
    "    root = sorted_nodes[0]\n",
    "    for i in range(1, len(sorted_nodes), 1):\n",
    "        root = merge_trees(sorted_nodes[i], root)\n",
    "\n",
    "    return root"
   ]
  },
  {
   "cell_type": "code",
   "execution_count": 100,
   "metadata": {},
   "outputs": [],
   "source": [
    "# HELPER\n",
    "def visualise_tree(root, level=0):\n",
    "    print(('\\t' * level) + '{} - {} [{}]'.format(level, root.chars, root.freq))\n",
    "\n",
    "    level += 1\n",
    "    if root.left:\n",
    "        visualise_tree(root.left, level)\n",
    "\n",
    "    if root.right:\n",
    "        visualise_tree(root.right, level)"
   ]
  },
  {
   "cell_type": "code",
   "execution_count": 101,
   "metadata": {},
   "outputs": [
    {
     "name": "stdout",
     "output_type": "stream",
     "text": [
      "0 - ['a', 'b', 'c'] [23]\n",
      "\t1 - ['a'] [20]\n",
      "\t1 - ['b', 'c'] [3]\n",
      "\t\t2 - ['b'] [2]\n",
      "\t\t2 - ['c'] [1]\n"
     ]
    }
   ],
   "source": [
    "test_case = {'a': 20, 'b': 2, 'c': 1}\n",
    "root_test_case = create_binary_tree(create_node(test_case))\n",
    "\n",
    "visualise_tree(root_test_case)"
   ]
  },
  {
   "cell_type": "markdown",
   "metadata": {},
   "source": [
    "### Deliverable 4\n"
   ]
  },
  {
   "cell_type": "code",
   "execution_count": 103,
   "metadata": {},
   "outputs": [],
   "source": [
    "def find_in_tree(char, root):\n",
    "    level = 0\n",
    "    while root:\n",
    "        if not root.left:\n",
    "            if char == root.chars[0]:\n",
    "                return level\n",
    "            else:\n",
    "                break\n",
    "\n",
    "        level += 1\n",
    "        if char == root.left.chars[0]:\n",
    "            return level\n",
    "\n",
    "        root = root.right\n",
    "\n",
    "    return 'None'"
   ]
  },
  {
   "cell_type": "code",
   "execution_count": 104,
   "metadata": {},
   "outputs": [
    {
     "data": {
      "text/plain": [
       "1"
      ]
     },
     "execution_count": 104,
     "metadata": {},
     "output_type": "execute_result"
    }
   ],
   "source": [
    "find_in_tree('a', root_test_case)"
   ]
  },
  {
   "cell_type": "code",
   "execution_count": 105,
   "metadata": {},
   "outputs": [
    {
     "data": {
      "text/plain": [
       "2"
      ]
     },
     "execution_count": 105,
     "metadata": {},
     "output_type": "execute_result"
    }
   ],
   "source": [
    "find_in_tree('b', root_test_case)"
   ]
  },
  {
   "cell_type": "code",
   "execution_count": 106,
   "metadata": {},
   "outputs": [
    {
     "data": {
      "text/plain": [
       "2"
      ]
     },
     "execution_count": 106,
     "metadata": {},
     "output_type": "execute_result"
    }
   ],
   "source": [
    "find_in_tree('c', root_test_case)"
   ]
  },
  {
   "cell_type": "code",
   "execution_count": 107,
   "metadata": {},
   "outputs": [
    {
     "data": {
      "text/plain": [
       "'None'"
      ]
     },
     "execution_count": 107,
     "metadata": {},
     "output_type": "execute_result"
    }
   ],
   "source": [
    "find_in_tree('d', root_test_case)"
   ]
  },
  {
   "cell_type": "markdown",
   "metadata": {},
   "source": [
    "### Deliverable 5\n"
   ]
  },
  {
   "cell_type": "code",
   "execution_count": 108,
   "metadata": {},
   "outputs": [],
   "source": [
    "def tree_from_text(file_name):\n",
    "    file = open(file_name, 'r')\n",
    "    content = file.read()\n",
    "    file.close()\n",
    "\n",
    "    char_freq = dict()\n",
    "    for char in content:\n",
    "        char_freq[char] = char_freq.get(char, 0) + 1\n",
    "\n",
    "    unique_char_sorted = sorted(\n",
    "        char_freq.keys(), key=lambda char: char_freq[char], reverse=True)\n",
    "\n",
    "    total_bit = 0\n",
    "    num_char = len(content)\n",
    "    root = Node(unique_char_sorted, num_char)\n",
    "    for i in range(0, len(unique_char_sorted), 1):\n",
    "        char = unique_char_sorted[i]\n",
    "\n",
    "        total_bit += char_freq[char] * (i + 1)\n",
    "\n",
    "        root.left = Node([char], char_freq[char])\n",
    "        root.right = Node(unique_char_sorted[i+1:], num_char - char_freq[char])\n",
    "\n",
    "        root = root.right\n",
    "        if len(root.chars) == 1:\n",
    "            break\n",
    "\n",
    "    average_bit = np.round(total_bit / num_char, 2)\n",
    "\n",
    "    print('Total number of bits: {} \\nAverage number of bits: {}'.format(\n",
    "        total_bit, average_bit))\n",
    "\n",
    "    return root"
   ]
  },
  {
   "cell_type": "code",
   "execution_count": 109,
   "metadata": {},
   "outputs": [
    {
     "name": "stdout",
     "output_type": "stream",
     "text": [
      "Total number of bits: 14712 \n",
      "Average number of bits: 8.18\n"
     ]
    },
    {
     "data": {
      "text/plain": [
       "<__main__.Node at 0x10af64090>"
      ]
     },
     "execution_count": 109,
     "metadata": {},
     "output_type": "execute_result"
    }
   ],
   "source": [
    "tree_from_text(file_name)"
   ]
  },
  {
   "cell_type": "code",
   "execution_count": null,
   "metadata": {},
   "outputs": [],
   "source": []
  }
 ],
 "metadata": {
  "kernelspec": {
   "display_name": "Python 3",
   "language": "python",
   "name": "python3"
  },
  "language_info": {
   "codemirror_mode": {
    "name": "ipython",
    "version": 3
   },
   "file_extension": ".py",
   "mimetype": "text/x-python",
   "name": "python",
   "nbconvert_exporter": "python",
   "pygments_lexer": "ipython3",
   "version": "3.11.3"
  }
 },
 "nbformat": 4,
 "nbformat_minor": 2
}

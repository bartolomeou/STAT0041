{
 "cells": [
  {
   "cell_type": "code",
   "execution_count": 10,
   "metadata": {},
   "outputs": [],
   "source": [
    "import numpy as np"
   ]
  },
  {
   "cell_type": "code",
   "execution_count": 31,
   "metadata": {},
   "outputs": [],
   "source": [
    "#   .txt\n",
    "file_name = 'test.txt'"
   ]
  },
  {
   "cell_type": "code",
   "execution_count": 26,
   "metadata": {},
   "outputs": [],
   "source": [
    "def deliverable_1(file_name, verbose=False):\n",
    "    with open(file_name, 'r') as file:\n",
    "        content = file.read()\n",
    "\n",
    "        total_char = len(content)\n",
    "\n",
    "        unique_char = set(content)\n",
    "        num_unique_char = len(unique_char)\n",
    "\n",
    "        average_bit = int(np.ceil(np.log(num_unique_char)))\n",
    "\n",
    "        total_bit = average_bit * total_char\n",
    "\n",
    "        if verbose:\n",
    "            print(content, end='\\n\\n')\n",
    "            print(unique_char, end='\\n\\n')\n",
    "\n",
    "        print('Total number of characters: {} \\nNumber of distinct characters: {} \\nTotal number of bits needed to encode the text: {} \\nAverage number of bits per character: {}'.format(\n",
    "            total_char, num_unique_char, total_bit, average_bit))"
   ]
  },
  {
   "cell_type": "code",
   "execution_count": 27,
   "metadata": {},
   "outputs": [
    {
     "name": "stdout",
     "output_type": "stream",
     "text": [
      "I live in constant fear of the western descent towards fascism. But I digress.\n",
      "\n",
      "The club is bumping. The ladies look good. The alcohol is flowing.\n",
      "\n",
      "There is much pain in the word, but not in this room.\n",
      "\n",
      "{'w', 'm', ' ', 'n', 'a', 'h', 'c', 'b', 'r', 'o', 'l', 'i', 'p', 't', 'B', 'd', 'u', 'f', 'v', '\\n', 'e', 'T', 'g', 'I', 'k', '.', 's', ','}\n",
      "\n",
      "Total number of characters: 201 \n",
      "Number of distinct characters: 28 \n",
      "Total number of bits needed to encode the text: 804 \n",
      "Average number of bits per character: 4\n"
     ]
    }
   ],
   "source": [
    "deliverable_1(file_name)"
   ]
  },
  {
   "cell_type": "code",
   "execution_count": 39,
   "metadata": {},
   "outputs": [],
   "source": [
    "def deliverable_2(file_name, verbose=False):\n",
    "    with open(file_name, 'r') as file:\n",
    "        content = file.read()\n",
    "\n",
    "        total_char = len(content)\n",
    "\n",
    "        num_unique_char = len(set(content))\n",
    "\n",
    "        total_bit = int((1 + num_unique_char) * num_unique_char / 2)\n",
    "\n",
    "        average_bit = round(total_bit / total_char, 2)\n",
    "\n",
    "        print('Total numer of bits: {} \\nAverage number of bits: {}'.format(\n",
    "            total_bit, average_bit))"
   ]
  },
  {
   "cell_type": "code",
   "execution_count": 40,
   "metadata": {},
   "outputs": [
    {
     "name": "stdout",
     "output_type": "stream",
     "text": [
      "Total numer of bits: 406 \n",
      "Average number of bits: 2.02\n"
     ]
    }
   ],
   "source": [
    "deliverable_2(file_name)"
   ]
  },
  {
   "cell_type": "code",
   "execution_count": null,
   "metadata": {},
   "outputs": [],
   "source": []
  }
 ],
 "metadata": {
  "kernelspec": {
   "display_name": "Python 3",
   "language": "python",
   "name": "python3"
  },
  "language_info": {
   "codemirror_mode": {
    "name": "ipython",
    "version": 3
   },
   "file_extension": ".py",
   "mimetype": "text/x-python",
   "name": "python",
   "nbconvert_exporter": "python",
   "pygments_lexer": "ipython3",
   "version": "3.11.3"
  }
 },
 "nbformat": 4,
 "nbformat_minor": 2
}

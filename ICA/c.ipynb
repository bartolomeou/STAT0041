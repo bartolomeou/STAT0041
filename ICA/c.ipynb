{
 "cells": [
  {
   "cell_type": "code",
   "execution_count": 1,
   "metadata": {},
   "outputs": [],
   "source": [
    "import numpy as np"
   ]
  },
  {
   "cell_type": "code",
   "execution_count": 2,
   "metadata": {},
   "outputs": [],
   "source": [
    "#   .txt\n",
    "file_name = 'test.txt'"
   ]
  },
  {
   "cell_type": "markdown",
   "metadata": {},
   "source": [
    "### Deliverable 1\n"
   ]
  },
  {
   "cell_type": "code",
   "execution_count": 79,
   "metadata": {},
   "outputs": [
    {
     "name": "stdout",
     "output_type": "stream",
     "text": [
      "Total number of characters: 201 \n",
      "Number of distinct characters: 28 \n",
      "Total number of bits needed to encode the text: 804 \n",
      "Average number of bits per character: 4\n"
     ]
    }
   ],
   "source": [
    "file = open(file_name, 'r')\n",
    "content = file.read()\n",
    "file.close()\n",
    "\n",
    "num_char = len(content)\n",
    "\n",
    "unique_char = set(content)\n",
    "num_unique_char = len(unique_char)\n",
    "\n",
    "# each character is encoded by the same number of bits\n",
    "average_bit = int(np.ceil(np.log(num_unique_char)))\n",
    "total_bit = average_bit * num_char\n",
    "\n",
    "# print(content, end='\\n\\n')\n",
    "# print(unique_char, end='\\n\\n')\n",
    "\n",
    "print('Total number of characters: {} \\nNumber of distinct characters: {} \\nTotal number of bits needed to encode the text: {} \\nAverage number of bits per character: {}'.format(\n",
    "    num_char, num_unique_char, total_bit, average_bit))"
   ]
  },
  {
   "cell_type": "markdown",
   "metadata": {},
   "source": [
    "### Deliverable 2\n"
   ]
  },
  {
   "cell_type": "code",
   "execution_count": 19,
   "metadata": {},
   "outputs": [
    {
     "name": "stdout",
     "output_type": "stream",
     "text": [
      "['v', 'B', 'k', ',', 'I', 'p', 'b', 'f', 'w', 'm', 'g', '\\n', 'T', 'u', 'c', 'd', '.', 'l', 'a', 'r', 'h', 'n', 't', 's', 'i', 'o', 'e', ' ']\n",
      "Total numer of bits: 4157 \n",
      "Average number of bits: 20.681592039800996\n"
     ]
    }
   ],
   "source": [
    "file = open(file_name, 'r')\n",
    "content = file.read()\n",
    "file.close()\n",
    "\n",
    "num_char = len(content)\n",
    "\n",
    "char_freq = dict()\n",
    "for char in content:\n",
    "    char_freq[char] = char_freq.get(char, 0) + 1\n",
    "\n",
    "# sort unique characters by frequency in descending order\n",
    "sorted_unique_chars = sorted(\n",
    "    char_freq.keys(), key=lambda char: char_freq[char])\n",
    "print(sorted_unique_chars)\n",
    "\n",
    "total_bit = 0\n",
    "i = 1\n",
    "for char in sorted_unique_chars:\n",
    "    total_bit += char_freq[char] * i\n",
    "    i += 1\n",
    "\n",
    "average_bit = total_bit / num_char\n",
    "\n",
    "print('Total numer of bits: {} \\nAverage number of bits: {}'.format(\n",
    "    total_bit, average_bit))"
   ]
  },
  {
   "cell_type": "markdown",
   "metadata": {},
   "source": [
    "### Deliverable 3\n"
   ]
  },
  {
   "cell_type": "code",
   "execution_count": 3,
   "metadata": {},
   "outputs": [],
   "source": [
    "class Node:\n",
    "    def __init__(self, chars, freq, left=None, right=None):\n",
    "        self.chars = chars\n",
    "        self.freq = freq\n",
    "        self.left = left\n",
    "        self.right = right"
   ]
  },
  {
   "cell_type": "code",
   "execution_count": 4,
   "metadata": {},
   "outputs": [],
   "source": [
    "def get_char_freq(file_name):\n",
    "    file = open(file_name, 'r')\n",
    "    content = file.read()\n",
    "    file.close()\n",
    "\n",
    "    char_freq = dict()\n",
    "    for char in content:\n",
    "        char_freq[char] = char_freq.get(char, 0) + 1\n",
    "\n",
    "    return char_freq"
   ]
  },
  {
   "cell_type": "code",
   "execution_count": 24,
   "metadata": {},
   "outputs": [],
   "source": [
    "def create_node(char_freq):\n",
    "    nodes = list()\n",
    "\n",
    "    for char, freq in char_freq.items():\n",
    "        nodes.append(Node([char], freq))\n",
    "\n",
    "    return nodes"
   ]
  },
  {
   "cell_type": "code",
   "execution_count": 20,
   "metadata": {},
   "outputs": [],
   "source": [
    "def merge_trees(left_root, right_root):\n",
    "    chars = list(set(left_root.chars + right_root.chars))\n",
    "    freq = left_root.freq + right_root.freq\n",
    "\n",
    "    return Node(chars, freq, left_root, right_root)"
   ]
  },
  {
   "cell_type": "code",
   "execution_count": 22,
   "metadata": {},
   "outputs": [],
   "source": [
    "def create_binary_tree(nodes):\n",
    "    sorted_nodes = sorted(nodes, key=lambda x: x.freq)\n",
    "\n",
    "    root = sorted_nodes[0]\n",
    "    for i in range(1, len(sorted_nodes), 1):\n",
    "        root = merge_trees(sorted_nodes[i], root)\n",
    "\n",
    "    return root"
   ]
  },
  {
   "cell_type": "code",
   "execution_count": 33,
   "metadata": {},
   "outputs": [],
   "source": [
    "# HELPER\n",
    "def visualise_tree(root, level=0):\n",
    "    print(('\\t' * level) + '{} - {} [{}]'.format(level, root.chars, root.freq))\n",
    "\n",
    "    level += 1\n",
    "    if root.left:\n",
    "        visualise_tree(root.left, level)\n",
    "\n",
    "    if root.right:\n",
    "        visualise_tree(root.right, level)"
   ]
  },
  {
   "cell_type": "code",
   "execution_count": 38,
   "metadata": {},
   "outputs": [
    {
     "name": "stdout",
     "output_type": "stream",
     "text": [
      "0 - ['a', 'b', 'c'] [23]\n",
      "\t1 - ['a'] [20]\n",
      "\t1 - ['b', 'c'] [3]\n",
      "\t\t2 - ['b'] [2]\n",
      "\t\t2 - ['c'] [1]\n"
     ]
    }
   ],
   "source": [
    "test_case = {'a': 20, 'b': 2, 'c': 1}\n",
    "root_test_case = create_binary_tree(create_node(test_case))\n",
    "\n",
    "visualise_tree(root_test_case)"
   ]
  },
  {
   "cell_type": "code",
   "execution_count": 35,
   "metadata": {},
   "outputs": [
    {
     "name": "stdout",
     "output_type": "stream",
     "text": [
      "0 - ['h', 'k', 'p', 'w', 'r', 'I', 'g', 't', 'o', ',', 'e', '\\n', 'u', 'f', 'v', '.', 'B', 'l', 'd', 's', 'c', 'i', 'm', 'a', ' ', 'n', 'b', 'T'] [201]\n",
      "\t1 - [' '] [35]\n",
      "\t1 - ['h', 'k', 'p', 'w', 'r', 'I', 'g', 't', 'o', ',', 'e', '\\n', 'u', 'f', 'v', '.', 'B', 'l', 'd', 's', 'c', 'i', 'm', 'a', 'n', 'b', 'T'] [166]\n",
      "\t\t2 - ['e'] [15]\n",
      "\t\t2 - ['h', 'k', 'p', 'w', 'r', 'I', 'g', 't', 'o', ',', '\\n', 'u', 'f', 'v', '.', 'B', 'l', 'd', 's', 'c', 'i', 'm', 'a', 'n', 'b', 'T'] [151]\n",
      "\t\t\t3 - ['o'] [14]\n",
      "\t\t\t3 - ['h', 'k', 'p', 'w', 'r', 'I', 'g', 't', ',', '\\n', 'u', 'f', 'v', '.', 'B', 'l', 'd', 's', 'c', 'i', 'm', 'a', 'n', 'b', 'T'] [137]\n",
      "\t\t\t\t4 - ['i'] [14]\n",
      "\t\t\t\t4 - ['h', 'k', 'p', 'w', 'r', 'I', 'g', 't', ',', '\\n', 'u', 'f', 'v', '.', 'B', 'l', 'd', 's', 'c', 'm', 'a', 'n', 'b', 'T'] [123]\n",
      "\t\t\t\t\t5 - ['s'] [13]\n",
      "\t\t\t\t\t5 - ['h', 'k', 'p', 'w', 'r', 'I', 'g', 't', ',', '\\n', 'u', 'f', 'v', '.', 'B', 'l', 'd', 'c', 'm', 'a', 'n', 'b', 'T'] [110]\n",
      "\t\t\t\t\t\t6 - ['t'] [11]\n",
      "\t\t\t\t\t\t6 - ['h', 'k', 'p', 'w', 'r', 'I', 'g', ',', '\\n', 'u', 'f', 'v', '.', 'B', 'l', 'd', 'c', 'm', 'a', 'n', 'b', 'T'] [99]\n",
      "\t\t\t\t\t\t\t7 - ['n'] [11]\n",
      "\t\t\t\t\t\t\t7 - ['h', 'k', 'p', 'w', 'r', 'I', 'g', ',', '\\n', 'u', 'f', 'v', '.', 'B', 'l', 'd', 'c', 'm', 'a', 'b', 'T'] [88]\n",
      "\t\t\t\t\t\t\t\t8 - ['h'] [9]\n",
      "\t\t\t\t\t\t\t\t8 - ['k', 'p', 'w', 'r', 'I', 'g', ',', '\\n', 'u', 'f', 'v', '.', 'B', 'l', 'd', 'c', 'm', 'a', 'b', 'T'] [79]\n",
      "\t\t\t\t\t\t\t\t\t9 - ['r'] [7]\n",
      "\t\t\t\t\t\t\t\t\t9 - ['k', 'p', 'w', 'I', 'g', ',', '\\n', 'u', 'f', 'v', '.', 'B', 'l', 'd', 'c', 'm', 'a', 'b', 'T'] [72]\n",
      "\t\t\t\t\t\t\t\t\t\t10 - ['a'] [7]\n",
      "\t\t\t\t\t\t\t\t\t\t10 - ['B', 'g', 'I', 'l', 'd', ',', 'k', 'p', '\\n', 'u', 'c', 'w', 'b', 'f', 'v', 'T', 'm', '.'] [65]\n",
      "\t\t\t\t\t\t\t\t\t\t\t11 - ['l'] [7]\n",
      "\t\t\t\t\t\t\t\t\t\t\t11 - ['B', 'I', 'g', 'd', ',', 'k', 'p', '\\n', 'u', 'c', 'w', 'b', 'f', 'v', 'T', 'm', '.'] [58]\n",
      "\t\t\t\t\t\t\t\t\t\t\t\t12 - ['.'] [6]\n",
      "\t\t\t\t\t\t\t\t\t\t\t\t12 - ['B', 'g', 'I', 'd', ',', 'k', 'p', '\\n', 'u', 'c', 'w', 'b', 'f', 'v', 'T', 'm'] [52]\n",
      "\t\t\t\t\t\t\t\t\t\t\t\t\t13 - ['d'] [6]\n",
      "\t\t\t\t\t\t\t\t\t\t\t\t\t13 - ['B', 'g', 'I', ',', 'k', 'p', '\\n', 'u', 'c', 'w', 'b', 'f', 'v', 'T', 'm'] [46]\n",
      "\t\t\t\t\t\t\t\t\t\t\t\t\t\t14 - ['c'] [6]\n",
      "\t\t\t\t\t\t\t\t\t\t\t\t\t\t14 - ['B', 'g', 'I', ',', 'k', 'p', '\\n', 'u', 'w', 'b', 'f', 'v', 'T', 'm'] [40]\n",
      "\t\t\t\t\t\t\t\t\t\t\t\t\t\t\t15 - ['u'] [5]\n",
      "\t\t\t\t\t\t\t\t\t\t\t\t\t\t\t15 - ['B', 'g', 'I', ',', 'k', 'p', '\\n', 'w', 'b', 'f', 'v', 'T', 'm'] [35]\n",
      "\t\t\t\t\t\t\t\t\t\t\t\t\t\t\t\t16 - ['T'] [4]\n",
      "\t\t\t\t\t\t\t\t\t\t\t\t\t\t\t\t16 - ['B', 'I', 'g', ',', 'k', 'p', '\\n', 'w', 'b', 'f', 'v', 'm'] [31]\n",
      "\t\t\t\t\t\t\t\t\t\t\t\t\t\t\t\t\t17 - ['\\n'] [4]\n",
      "\t\t\t\t\t\t\t\t\t\t\t\t\t\t\t\t\t17 - ['B', 'g', 'I', ',', 'k', 'p', 'w', 'b', 'f', 'v', 'm'] [27]\n",
      "\t\t\t\t\t\t\t\t\t\t\t\t\t\t\t\t\t\t18 - ['g'] [4]\n",
      "\t\t\t\t\t\t\t\t\t\t\t\t\t\t\t\t\t\t18 - ['B', 'I', ',', 'k', 'p', 'w', 'b', 'f', 'v', 'm'] [23]\n",
      "\t\t\t\t\t\t\t\t\t\t\t\t\t\t\t\t\t\t\t19 - ['m'] [4]\n",
      "\t\t\t\t\t\t\t\t\t\t\t\t\t\t\t\t\t\t\t19 - ['B', 'I', ',', 'k', 'p', 'w', 'b', 'f', 'v'] [19]\n",
      "\t\t\t\t\t\t\t\t\t\t\t\t\t\t\t\t\t\t\t\t20 - ['w'] [4]\n",
      "\t\t\t\t\t\t\t\t\t\t\t\t\t\t\t\t\t\t\t\t20 - ['B', 'I', ',', 'k', 'p', 'b', 'f', 'v'] [15]\n",
      "\t\t\t\t\t\t\t\t\t\t\t\t\t\t\t\t\t\t\t\t\t21 - ['f'] [4]\n",
      "\t\t\t\t\t\t\t\t\t\t\t\t\t\t\t\t\t\t\t\t\t21 - ['B', 'I', ',', 'k', 'p', 'b', 'v'] [11]\n",
      "\t\t\t\t\t\t\t\t\t\t\t\t\t\t\t\t\t\t\t\t\t\t22 - ['b'] [3]\n",
      "\t\t\t\t\t\t\t\t\t\t\t\t\t\t\t\t\t\t\t\t\t\t22 - ['B', 'I', ',', 'k', 'p', 'v'] [8]\n",
      "\t\t\t\t\t\t\t\t\t\t\t\t\t\t\t\t\t\t\t\t\t\t\t23 - ['p'] [2]\n",
      "\t\t\t\t\t\t\t\t\t\t\t\t\t\t\t\t\t\t\t\t\t\t\t23 - ['B', 'I', ',', 'k', 'v'] [6]\n",
      "\t\t\t\t\t\t\t\t\t\t\t\t\t\t\t\t\t\t\t\t\t\t\t\t24 - ['I'] [2]\n",
      "\t\t\t\t\t\t\t\t\t\t\t\t\t\t\t\t\t\t\t\t\t\t\t\t24 - ['B', ',', 'k', 'v'] [4]\n",
      "\t\t\t\t\t\t\t\t\t\t\t\t\t\t\t\t\t\t\t\t\t\t\t\t\t25 - [','] [1]\n",
      "\t\t\t\t\t\t\t\t\t\t\t\t\t\t\t\t\t\t\t\t\t\t\t\t\t25 - ['B', 'k', 'v'] [3]\n",
      "\t\t\t\t\t\t\t\t\t\t\t\t\t\t\t\t\t\t\t\t\t\t\t\t\t\t26 - ['k'] [1]\n",
      "\t\t\t\t\t\t\t\t\t\t\t\t\t\t\t\t\t\t\t\t\t\t\t\t\t\t26 - ['B', 'v'] [2]\n",
      "\t\t\t\t\t\t\t\t\t\t\t\t\t\t\t\t\t\t\t\t\t\t\t\t\t\t\t27 - ['B'] [1]\n",
      "\t\t\t\t\t\t\t\t\t\t\t\t\t\t\t\t\t\t\t\t\t\t\t\t\t\t\t27 - ['v'] [1]\n"
     ]
    }
   ],
   "source": [
    "root = create_binary_tree(create_node(get_char_freq(file_name)))\n",
    "visualise_tree(root)"
   ]
  },
  {
   "cell_type": "markdown",
   "metadata": {},
   "source": [
    "### Deliverable 4\n"
   ]
  },
  {
   "cell_type": "code",
   "execution_count": 42,
   "metadata": {},
   "outputs": [],
   "source": [
    "def find_in_tree(char, root):\n",
    "    level = 0\n",
    "    while root:\n",
    "        if not root.left:\n",
    "            if char == root.chars[0]:\n",
    "                return level\n",
    "            else:\n",
    "                break\n",
    "\n",
    "        level += 1\n",
    "        if char == root.left.chars[0]:\n",
    "            return level\n",
    "\n",
    "        root = root.right\n",
    "\n",
    "    return None"
   ]
  },
  {
   "cell_type": "code",
   "execution_count": 47,
   "metadata": {},
   "outputs": [
    {
     "data": {
      "text/plain": [
       "1"
      ]
     },
     "execution_count": 47,
     "metadata": {},
     "output_type": "execute_result"
    }
   ],
   "source": [
    "find_in_tree('a', root_test_case)"
   ]
  },
  {
   "cell_type": "code",
   "execution_count": 48,
   "metadata": {},
   "outputs": [
    {
     "data": {
      "text/plain": [
       "2"
      ]
     },
     "execution_count": 48,
     "metadata": {},
     "output_type": "execute_result"
    }
   ],
   "source": [
    "find_in_tree('b', root_test_case)"
   ]
  },
  {
   "cell_type": "code",
   "execution_count": 49,
   "metadata": {},
   "outputs": [
    {
     "data": {
      "text/plain": [
       "2"
      ]
     },
     "execution_count": 49,
     "metadata": {},
     "output_type": "execute_result"
    }
   ],
   "source": [
    "find_in_tree('c', root_test_case)"
   ]
  }
 ],
 "metadata": {
  "kernelspec": {
   "display_name": "Python 3",
   "language": "python",
   "name": "python3"
  },
  "language_info": {
   "codemirror_mode": {
    "name": "ipython",
    "version": 3
   },
   "file_extension": ".py",
   "mimetype": "text/x-python",
   "name": "python",
   "nbconvert_exporter": "python",
   "pygments_lexer": "ipython3",
   "version": "3.11.3"
  }
 },
 "nbformat": 4,
 "nbformat_minor": 2
}

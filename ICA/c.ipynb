{
 "cells": [
  {
   "cell_type": "code",
   "execution_count": 22,
   "metadata": {},
   "outputs": [],
   "source": [
    "import numpy as np"
   ]
  },
  {
   "cell_type": "code",
   "execution_count": 23,
   "metadata": {},
   "outputs": [],
   "source": [
    "#   .txt\n",
    "file_name = 'academicMisconduct.txt'"
   ]
  },
  {
   "cell_type": "markdown",
   "metadata": {},
   "source": [
    "### Deliverable 1\n"
   ]
  },
  {
   "cell_type": "code",
   "execution_count": 24,
   "metadata": {},
   "outputs": [
    {
     "name": "stdout",
     "output_type": "stream",
     "text": [
      "Total number of characters: 9881 \n",
      "Number of distinct characters: 65 \n",
      "Total number of bits needed to encode the text: 41204.0 \n",
      "Average number of bits per character: 4.17\n"
     ]
    }
   ],
   "source": [
    "file = open(file_name, 'r')\n",
    "content = file.read()\n",
    "file.close()\n",
    "\n",
    "num_char = len(content)\n",
    "\n",
    "unique_char = set(content)\n",
    "num_unique_char = len(unique_char)\n",
    "\n",
    "# each character is encoded by the same number of bits\n",
    "average_bit = np.round((np.log(num_unique_char)), 2)\n",
    "total_bit = np.round(average_bit * num_char)\n",
    "\n",
    "# print(content, end='\\n\\n')\n",
    "# print(unique_char, end='\\n\\n')\n",
    "\n",
    "print('Total number of characters: {} \\nNumber of distinct characters: {} \\nTotal number of bits needed to encode the text: {} \\nAverage number of bits per character: {}'.format(\n",
    "    num_char, num_unique_char, total_bit, average_bit))"
   ]
  },
  {
   "cell_type": "markdown",
   "metadata": {},
   "source": [
    "### Deliverable 2\n"
   ]
  },
  {
   "cell_type": "code",
   "execution_count": 25,
   "metadata": {},
   "outputs": [
    {
     "name": "stdout",
     "output_type": "stream",
     "text": [
      "[' ', 'e', 't', 'i', 'a', 'n', 'o', 's', 'r', 'd', 'c', 'u', 'h', 'l', 'm', 'f', 'p', 'g', '\\t', '.', 'b', 'w', 'y', 'v', '\\n', ',', 'A', 'k', 'C', 'x', ')', 'M', 'I', 'S', ':', 'P', 'U', '1', 'T', 'L', 'j', \"'\", 'R', '\"', 'F', '3', '2', '(', 'G', '9', 'H', '4', 'E', '-', '6', 'W', 'D', '/', '5', '7', 'q', '8', '0', 'B', 'O']\n",
      "Total numer of bits: 85373 \n",
      "Average number of bits: 8.64\n"
     ]
    }
   ],
   "source": [
    "file = open(file_name, 'r')\n",
    "content = file.read()\n",
    "file.close()\n",
    "\n",
    "num_char = len(content)\n",
    "\n",
    "char_freq = dict()\n",
    "for char in content:\n",
    "    char_freq[char] = char_freq.get(char, 0) + 1\n",
    "\n",
    "# sort unique characters by frequency in descending order\n",
    "sorted_unique_chars = sorted(\n",
    "    char_freq.keys(), key=lambda char: char_freq[char], reverse=True)\n",
    "\n",
    "print(sorted_unique_chars)\n",
    "\n",
    "total_bit = 0\n",
    "i = 1\n",
    "for char in sorted_unique_chars:\n",
    "    total_bit += char_freq[char] * i\n",
    "    i += 1\n",
    "\n",
    "average_bit = np.round(total_bit / num_char, 2)\n",
    "\n",
    "print('Total numer of bits: {} \\nAverage number of bits: {}'.format(\n",
    "    total_bit, average_bit))"
   ]
  },
  {
   "cell_type": "markdown",
   "metadata": {},
   "source": [
    "### Deliverable 3\n"
   ]
  },
  {
   "cell_type": "code",
   "execution_count": 26,
   "metadata": {},
   "outputs": [],
   "source": [
    "class Node:\n",
    "    def __init__(self, chars, freq, left=None, right=None):\n",
    "        self.chars = chars\n",
    "        self.freq = freq\n",
    "        self.left = left\n",
    "        self.right = right"
   ]
  },
  {
   "cell_type": "code",
   "execution_count": 27,
   "metadata": {},
   "outputs": [],
   "source": [
    "def get_char_freq(file_name):\n",
    "    file = open(file_name, 'r')\n",
    "    content = file.read()\n",
    "    file.close()\n",
    "\n",
    "    char_freq = dict()\n",
    "    for char in content:\n",
    "        char_freq[char] = char_freq.get(char, 0) + 1\n",
    "\n",
    "    return char_freq"
   ]
  },
  {
   "cell_type": "code",
   "execution_count": 28,
   "metadata": {},
   "outputs": [],
   "source": [
    "def create_node(char_freq):\n",
    "    nodes = list()\n",
    "\n",
    "    for char, freq in char_freq.items():\n",
    "        nodes.append(Node([char], freq))\n",
    "\n",
    "    return nodes"
   ]
  },
  {
   "cell_type": "code",
   "execution_count": 29,
   "metadata": {},
   "outputs": [],
   "source": [
    "def merge_trees(left_root, right_root):\n",
    "    chars = list(set(left_root.chars + right_root.chars))\n",
    "    freq = left_root.freq + right_root.freq\n",
    "\n",
    "    return Node(chars, freq, left_root, right_root)"
   ]
  },
  {
   "cell_type": "code",
   "execution_count": 30,
   "metadata": {},
   "outputs": [],
   "source": [
    "def create_binary_tree(nodes):\n",
    "    sorted_nodes = sorted(nodes, key=lambda x: x.freq)\n",
    "\n",
    "    root = sorted_nodes[0]\n",
    "    for i in range(1, len(sorted_nodes), 1):\n",
    "        root = merge_trees(sorted_nodes[i], root)\n",
    "\n",
    "    return root"
   ]
  },
  {
   "cell_type": "code",
   "execution_count": 31,
   "metadata": {},
   "outputs": [],
   "source": [
    "# HELPER\n",
    "def visualise_tree(root, level=0):\n",
    "    print(('\\t' * level) + '{} - {} [{}]'.format(level, root.chars, root.freq))\n",
    "\n",
    "    level += 1\n",
    "    if root.left:\n",
    "        visualise_tree(root.left, level)\n",
    "\n",
    "    if root.right:\n",
    "        visualise_tree(root.right, level)"
   ]
  },
  {
   "cell_type": "code",
   "execution_count": 32,
   "metadata": {},
   "outputs": [
    {
     "name": "stdout",
     "output_type": "stream",
     "text": [
      "0 - ['c', 'b', 'a'] [23]\n",
      "\t1 - ['a'] [20]\n",
      "\t1 - ['b', 'c'] [3]\n",
      "\t\t2 - ['b'] [2]\n",
      "\t\t2 - ['c'] [1]\n"
     ]
    }
   ],
   "source": [
    "test_case = {'a': 20, 'b': 2, 'c': 1}\n",
    "root = create_binary_tree(create_node(test_case))\n",
    "\n",
    "visualise_tree(root)"
   ]
  },
  {
   "cell_type": "markdown",
   "metadata": {},
   "source": [
    "### Deliverable 4\n"
   ]
  },
  {
   "cell_type": "code",
   "execution_count": 33,
   "metadata": {},
   "outputs": [],
   "source": [
    "def find_in_tree(char, root):\n",
    "    level = 0\n",
    "    while root:\n",
    "        if not root.left:\n",
    "            if char == root.chars[0]:\n",
    "                return level\n",
    "            else:\n",
    "                break\n",
    "\n",
    "        level += 1\n",
    "        if char == root.left.chars[0]:\n",
    "            return level\n",
    "\n",
    "        root = root.right\n",
    "\n",
    "    return None"
   ]
  },
  {
   "cell_type": "code",
   "execution_count": 34,
   "metadata": {},
   "outputs": [
    {
     "data": {
      "text/plain": [
       "1"
      ]
     },
     "execution_count": 34,
     "metadata": {},
     "output_type": "execute_result"
    }
   ],
   "source": [
    "find_in_tree('a', root)"
   ]
  },
  {
   "cell_type": "code",
   "execution_count": 35,
   "metadata": {},
   "outputs": [
    {
     "data": {
      "text/plain": [
       "2"
      ]
     },
     "execution_count": 35,
     "metadata": {},
     "output_type": "execute_result"
    }
   ],
   "source": [
    "find_in_tree('b', root)"
   ]
  },
  {
   "cell_type": "code",
   "execution_count": 36,
   "metadata": {},
   "outputs": [
    {
     "data": {
      "text/plain": [
       "2"
      ]
     },
     "execution_count": 36,
     "metadata": {},
     "output_type": "execute_result"
    }
   ],
   "source": [
    "find_in_tree('c', root)"
   ]
  },
  {
   "cell_type": "code",
   "execution_count": 37,
   "metadata": {},
   "outputs": [],
   "source": [
    "find_in_tree('d', root)"
   ]
  },
  {
   "cell_type": "markdown",
   "metadata": {},
   "source": [
    "### Deliverable 5\n"
   ]
  },
  {
   "cell_type": "code",
   "execution_count": 38,
   "metadata": {},
   "outputs": [],
   "source": [
    "def tree_from_file(file_name):\n",
    "    file = open(file_name, 'r')\n",
    "    content = file.read()\n",
    "    file.close()\n",
    "\n",
    "    char_freq = dict()\n",
    "    for char in content:\n",
    "        char_freq[char] = char_freq.get(char, 0) + 1\n",
    "\n",
    "    # sort unique characters by frequency in descending order\n",
    "    sorted_unique_chars = sorted(\n",
    "        char_freq.keys(), key=lambda char: char_freq[char], reverse=True)\n",
    "\n",
    "    def create_binary_tree(sorted_unique_chars):\n",
    "        nonlocal char_freq\n",
    "\n",
    "        freq = sum(char_freq[char] for char in sorted_unique_chars)\n",
    "        node = Node(sorted_unique_chars, freq)\n",
    "\n",
    "        n = len(sorted_unique_chars)\n",
    "        if n == 1:\n",
    "            return node\n",
    "        elif n == 2:\n",
    "            node.left = Node([sorted_unique_chars[0]],\n",
    "                             char_freq[sorted_unique_chars[0]])\n",
    "            node.right = Node([sorted_unique_chars[1]],\n",
    "                              char_freq[sorted_unique_chars[1]])\n",
    "            return node\n",
    "\n",
    "        left = 0\n",
    "        right = freq\n",
    "\n",
    "        for i in range(0, n, 1):\n",
    "            left += char_freq[sorted_unique_chars[i]]\n",
    "            right -= char_freq[sorted_unique_chars[i]]\n",
    "\n",
    "            if left >= right:\n",
    "                node.left = create_binary_tree(sorted_unique_chars[0:i])\n",
    "                node.right = create_binary_tree(sorted_unique_chars[i:])\n",
    "                return node\n",
    "\n",
    "    node = create_binary_tree(sorted_unique_chars)\n",
    "\n",
    "    def calculate_bit(node, level=0):\n",
    "        if node.left is None and node.right is None:\n",
    "            return node.freq * level\n",
    "        else:\n",
    "            level += 1\n",
    "            return calculate_bit(node.left, level) + calculate_bit(node.right, level)\n",
    "\n",
    "    total_bit = calculate_bit(node)\n",
    "\n",
    "    num_char = len(content)\n",
    "    average_bit = np.round(total_bit / num_char, 2)\n",
    "\n",
    "    print('Total number of characters: {} \\nNumber of distinct characters: {} \\nTotal number of bits needed to encode the text: {} \\nAverage number of bits per character: {}'.format(\n",
    "        num_char, len(sorted_unique_chars), total_bit, average_bit))\n",
    "\n",
    "    visualise_tree(node)"
   ]
  },
  {
   "cell_type": "code",
   "execution_count": 39,
   "metadata": {},
   "outputs": [],
   "source": [
    "def tree_from_file_2(file_name):\n",
    "    file = open(file_name, 'r')\n",
    "    content = file.read()\n",
    "    file.close()\n",
    "\n",
    "    char_freq = dict()\n",
    "    for char in content:\n",
    "        char_freq[char] = char_freq.get(char, 0) + 1\n",
    "\n",
    "    nodes = list()\n",
    "    for char, freq in char_freq.items():\n",
    "        nodes.append(Node([char], freq))\n",
    "\n",
    "    while len(nodes) > 1:\n",
    "        right_node = min(nodes, key=lambda node: node.freq)\n",
    "        nodes.remove(right_node)\n",
    "\n",
    "        left_node = min(nodes, key=lambda node: node.freq)\n",
    "        nodes.remove(left_node)\n",
    "\n",
    "        new_node = merge_trees(left_node, right_node)\n",
    "        nodes.append(new_node)\n",
    "\n",
    "    root = nodes[0]\n",
    "\n",
    "    def calculate_bit(node, level=0):\n",
    "        if node.left is None and node.right is None:\n",
    "            return node.freq * level\n",
    "        else:\n",
    "            level += 1\n",
    "            return calculate_bit(node.left, level) + calculate_bit(node.right, level)\n",
    "\n",
    "    total_bit = calculate_bit(root)\n",
    "\n",
    "    num_char = len(content)\n",
    "    average_bit = np.round(total_bit / num_char, 2)\n",
    "\n",
    "    print('Total number of characters: {} \\nNumber of distinct characters: {} \\nTotal number of bits needed to encode the text: {} \\nAverage number of bits per character: {}'.format(\n",
    "        num_char, len(sorted_unique_chars), total_bit, average_bit))\n",
    "\n",
    "    visualise_tree(root)"
   ]
  },
  {
   "cell_type": "code",
   "execution_count": 40,
   "metadata": {},
   "outputs": [
    {
     "name": "stdout",
     "output_type": "stream",
     "text": [
      "Total number of characters: 9881 \n",
      "Number of distinct characters: 65 \n",
      "Total number of bits needed to encode the text: 45045 \n",
      "Average number of bits per character: 4.56\n",
      "0 - [' ', 'e', 't', 'i', 'a', 'n', 'o', 's', 'r', 'd', 'c', 'u', 'h', 'l', 'm', 'f', 'p', 'g', '\\t', '.', 'b', 'w', 'y', 'v', '\\n', ',', 'A', 'k', 'C', 'x', ')', 'M', 'I', 'S', ':', 'P', 'U', '1', 'T', 'L', 'j', \"'\", 'R', '\"', 'F', '3', '2', '(', 'G', '9', 'H', '4', 'E', '-', '6', 'W', 'D', '/', '5', '7', 'q', '8', '0', 'B', 'O'] [9881]\n",
      "\t1 - [' ', 'e', 't', 'i', 'a'] [4417]\n",
      "\t\t2 - [' '] [1439]\n",
      "\t\t2 - ['e', 't', 'i', 'a'] [2978]\n",
      "\t\t\t3 - ['e'] [924]\n",
      "\t\t\t3 - ['t', 'i', 'a'] [2054]\n",
      "\t\t\t\t4 - ['t'] [790]\n",
      "\t\t\t\t4 - ['i', 'a'] [1264]\n",
      "\t\t\t\t\t5 - ['i'] [644]\n",
      "\t\t\t\t\t5 - ['a'] [620]\n",
      "\t1 - ['n', 'o', 's', 'r', 'd', 'c', 'u', 'h', 'l', 'm', 'f', 'p', 'g', '\\t', '.', 'b', 'w', 'y', 'v', '\\n', ',', 'A', 'k', 'C', 'x', ')', 'M', 'I', 'S', ':', 'P', 'U', '1', 'T', 'L', 'j', \"'\", 'R', '\"', 'F', '3', '2', '(', 'G', '9', 'H', '4', 'E', '-', '6', 'W', 'D', '/', '5', '7', 'q', '8', '0', 'B', 'O'] [5464]\n",
      "\t\t2 - ['n', 'o', 's', 'r', 'd'] [2628]\n",
      "\t\t\t3 - ['n', 'o'] [1230]\n",
      "\t\t\t\t4 - ['n'] [615]\n",
      "\t\t\t\t4 - ['o'] [615]\n",
      "\t\t\t3 - ['s', 'r', 'd'] [1398]\n",
      "\t\t\t\t4 - ['s'] [542]\n",
      "\t\t\t\t4 - ['r', 'd'] [856]\n",
      "\t\t\t\t\t5 - ['r'] [483]\n",
      "\t\t\t\t\t5 - ['d'] [373]\n",
      "\t\t2 - ['c', 'u', 'h', 'l', 'm', 'f', 'p', 'g', '\\t', '.', 'b', 'w', 'y', 'v', '\\n', ',', 'A', 'k', 'C', 'x', ')', 'M', 'I', 'S', ':', 'P', 'U', '1', 'T', 'L', 'j', \"'\", 'R', '\"', 'F', '3', '2', '(', 'G', '9', 'H', '4', 'E', '-', '6', 'W', 'D', '/', '5', '7', 'q', '8', '0', 'B', 'O'] [2836]\n",
      "\t\t\t3 - ['c', 'u', 'h', 'l', 'm'] [1293]\n",
      "\t\t\t\t4 - ['c', 'u'] [598]\n",
      "\t\t\t\t\t5 - ['c'] [333]\n",
      "\t\t\t\t\t5 - ['u'] [265]\n",
      "\t\t\t\t4 - ['h', 'l', 'm'] [695]\n",
      "\t\t\t\t\t5 - ['h'] [243]\n",
      "\t\t\t\t\t5 - ['l', 'm'] [452]\n",
      "\t\t\t\t\t\t6 - ['l'] [241]\n",
      "\t\t\t\t\t\t6 - ['m'] [211]\n",
      "\t\t\t3 - ['f', 'p', 'g', '\\t', '.', 'b', 'w', 'y', 'v', '\\n', ',', 'A', 'k', 'C', 'x', ')', 'M', 'I', 'S', ':', 'P', 'U', '1', 'T', 'L', 'j', \"'\", 'R', '\"', 'F', '3', '2', '(', 'G', '9', 'H', '4', 'E', '-', '6', 'W', 'D', '/', '5', '7', 'q', '8', '0', 'B', 'O'] [1543]\n",
      "\t\t\t\t4 - ['f', 'p', 'g', '\\t', '.'] [699]\n",
      "\t\t\t\t\t5 - ['f', 'p'] [341]\n",
      "\t\t\t\t\t\t6 - ['f'] [174]\n",
      "\t\t\t\t\t\t6 - ['p'] [167]\n",
      "\t\t\t\t\t5 - ['g', '\\t', '.'] [358]\n",
      "\t\t\t\t\t\t6 - ['g'] [147]\n",
      "\t\t\t\t\t\t6 - ['\\t', '.'] [211]\n",
      "\t\t\t\t\t\t\t7 - ['\\t'] [106]\n",
      "\t\t\t\t\t\t\t7 - ['.'] [105]\n",
      "\t\t\t\t4 - ['b', 'w', 'y', 'v', '\\n', ',', 'A', 'k', 'C', 'x', ')', 'M', 'I', 'S', ':', 'P', 'U', '1', 'T', 'L', 'j', \"'\", 'R', '\"', 'F', '3', '2', '(', 'G', '9', 'H', '4', 'E', '-', '6', 'W', 'D', '/', '5', '7', 'q', '8', '0', 'B', 'O'] [844]\n",
      "\t\t\t\t\t5 - ['b', 'w', 'y', 'v', '\\n'] [416]\n",
      "\t\t\t\t\t\t6 - ['b', 'w'] [199]\n",
      "\t\t\t\t\t\t\t7 - ['b'] [104]\n",
      "\t\t\t\t\t\t\t7 - ['w'] [95]\n",
      "\t\t\t\t\t\t6 - ['y', 'v', '\\n'] [217]\n",
      "\t\t\t\t\t\t\t7 - ['y'] [89]\n",
      "\t\t\t\t\t\t\t7 - ['v', '\\n'] [128]\n",
      "\t\t\t\t\t\t\t\t8 - ['v'] [67]\n",
      "\t\t\t\t\t\t\t\t8 - ['\\n'] [61]\n",
      "\t\t\t\t\t5 - [',', 'A', 'k', 'C', 'x', ')', 'M', 'I', 'S', ':', 'P', 'U', '1', 'T', 'L', 'j', \"'\", 'R', '\"', 'F', '3', '2', '(', 'G', '9', 'H', '4', 'E', '-', '6', 'W', 'D', '/', '5', '7', 'q', '8', '0', 'B', 'O'] [428]\n",
      "\t\t\t\t\t\t6 - [',', 'A', 'k', 'C', 'x', ')', 'M'] [210]\n",
      "\t\t\t\t\t\t\t7 - [',', 'A'] [97]\n",
      "\t\t\t\t\t\t\t\t8 - [','] [55]\n",
      "\t\t\t\t\t\t\t\t8 - ['A'] [42]\n",
      "\t\t\t\t\t\t\t7 - ['k', 'C', 'x', ')', 'M'] [113]\n",
      "\t\t\t\t\t\t\t\t8 - ['k', 'C'] [53]\n",
      "\t\t\t\t\t\t\t\t\t9 - ['k'] [29]\n",
      "\t\t\t\t\t\t\t\t\t9 - ['C'] [24]\n",
      "\t\t\t\t\t\t\t\t8 - ['x', ')', 'M'] [60]\n",
      "\t\t\t\t\t\t\t\t\t9 - ['x'] [22]\n",
      "\t\t\t\t\t\t\t\t\t9 - [')', 'M'] [38]\n",
      "\t\t\t\t\t\t\t\t\t\t10 - [')'] [21]\n",
      "\t\t\t\t\t\t\t\t\t\t10 - ['M'] [17]\n",
      "\t\t\t\t\t\t6 - ['I', 'S', ':', 'P', 'U', '1', 'T', 'L', 'j', \"'\", 'R', '\"', 'F', '3', '2', '(', 'G', '9', 'H', '4', 'E', '-', '6', 'W', 'D', '/', '5', '7', 'q', '8', '0', 'B', 'O'] [218]\n",
      "\t\t\t\t\t\t\t7 - ['I', 'S', ':', 'P', 'U', '1', 'T', 'L'] [105]\n",
      "\t\t\t\t\t\t\t\t8 - ['I', 'S', ':'] [47]\n",
      "\t\t\t\t\t\t\t\t\t9 - ['I'] [16]\n",
      "\t\t\t\t\t\t\t\t\t9 - ['S', ':'] [31]\n",
      "\t\t\t\t\t\t\t\t\t\t10 - ['S'] [16]\n",
      "\t\t\t\t\t\t\t\t\t\t10 - [':'] [15]\n",
      "\t\t\t\t\t\t\t\t8 - ['P', 'U', '1', 'T', 'L'] [58]\n",
      "\t\t\t\t\t\t\t\t\t9 - ['P', 'U'] [26]\n",
      "\t\t\t\t\t\t\t\t\t\t10 - ['P'] [13]\n",
      "\t\t\t\t\t\t\t\t\t\t10 - ['U'] [13]\n",
      "\t\t\t\t\t\t\t\t\t9 - ['1', 'T', 'L'] [32]\n",
      "\t\t\t\t\t\t\t\t\t\t10 - ['1'] [12]\n",
      "\t\t\t\t\t\t\t\t\t\t10 - ['T', 'L'] [20]\n",
      "\t\t\t\t\t\t\t\t\t\t\t11 - ['T'] [11]\n",
      "\t\t\t\t\t\t\t\t\t\t\t11 - ['L'] [9]\n",
      "\t\t\t\t\t\t\t7 - ['j', \"'\", 'R', '\"', 'F', '3', '2', '(', 'G', '9', 'H', '4', 'E', '-', '6', 'W', 'D', '/', '5', '7', 'q', '8', '0', 'B', 'O'] [113]\n",
      "\t\t\t\t\t\t\t\t8 - ['j', \"'\", 'R', '\"', 'F', '3', '2'] [54]\n",
      "\t\t\t\t\t\t\t\t\t9 - ['j', \"'\", 'R'] [25]\n",
      "\t\t\t\t\t\t\t\t\t\t10 - ['j'] [9]\n",
      "\t\t\t\t\t\t\t\t\t\t10 - [\"'\", 'R'] [16]\n",
      "\t\t\t\t\t\t\t\t\t\t\t11 - [\"'\"] [8]\n",
      "\t\t\t\t\t\t\t\t\t\t\t11 - ['R'] [8]\n",
      "\t\t\t\t\t\t\t\t\t9 - ['\"', 'F', '3', '2'] [29]\n",
      "\t\t\t\t\t\t\t\t\t\t10 - ['\"'] [8]\n",
      "\t\t\t\t\t\t\t\t\t\t10 - ['F', '3', '2'] [21]\n",
      "\t\t\t\t\t\t\t\t\t\t\t11 - ['F'] [8]\n",
      "\t\t\t\t\t\t\t\t\t\t\t11 - ['3', '2'] [13]\n",
      "\t\t\t\t\t\t\t\t\t\t\t\t12 - ['3'] [7]\n",
      "\t\t\t\t\t\t\t\t\t\t\t\t12 - ['2'] [6]\n",
      "\t\t\t\t\t\t\t\t8 - ['(', 'G', '9', 'H', '4', 'E', '-', '6', 'W', 'D', '/', '5', '7', 'q', '8', '0', 'B', 'O'] [59]\n",
      "\t\t\t\t\t\t\t\t\t9 - ['(', 'G', '9', 'H', '4'] [27]\n",
      "\t\t\t\t\t\t\t\t\t\t10 - ['(', 'G'] [12]\n",
      "\t\t\t\t\t\t\t\t\t\t\t11 - ['('] [6]\n",
      "\t\t\t\t\t\t\t\t\t\t\t11 - ['G'] [6]\n",
      "\t\t\t\t\t\t\t\t\t\t10 - ['9', 'H', '4'] [15]\n",
      "\t\t\t\t\t\t\t\t\t\t\t11 - ['9'] [5]\n",
      "\t\t\t\t\t\t\t\t\t\t\t11 - ['H', '4'] [10]\n",
      "\t\t\t\t\t\t\t\t\t\t\t\t12 - ['H'] [5]\n",
      "\t\t\t\t\t\t\t\t\t\t\t\t12 - ['4'] [5]\n",
      "\t\t\t\t\t\t\t\t\t9 - ['E', '-', '6', 'W', 'D', '/', '5', '7', 'q', '8', '0', 'B', 'O'] [32]\n",
      "\t\t\t\t\t\t\t\t\t\t10 - ['E', '-', '6'] [14]\n",
      "\t\t\t\t\t\t\t\t\t\t\t11 - ['E'] [5]\n",
      "\t\t\t\t\t\t\t\t\t\t\t11 - ['-', '6'] [9]\n",
      "\t\t\t\t\t\t\t\t\t\t\t\t12 - ['-'] [5]\n",
      "\t\t\t\t\t\t\t\t\t\t\t\t12 - ['6'] [4]\n",
      "\t\t\t\t\t\t\t\t\t\t10 - ['W', 'D', '/', '5', '7', 'q', '8', '0', 'B', 'O'] [18]\n",
      "\t\t\t\t\t\t\t\t\t\t\t11 - ['W', 'D', '/'] [8]\n",
      "\t\t\t\t\t\t\t\t\t\t\t\t12 - ['W'] [3]\n",
      "\t\t\t\t\t\t\t\t\t\t\t\t12 - ['D', '/'] [5]\n",
      "\t\t\t\t\t\t\t\t\t\t\t\t\t13 - ['D'] [3]\n",
      "\t\t\t\t\t\t\t\t\t\t\t\t\t13 - ['/'] [2]\n",
      "\t\t\t\t\t\t\t\t\t\t\t11 - ['5', '7', 'q', '8', '0', 'B', 'O'] [10]\n",
      "\t\t\t\t\t\t\t\t\t\t\t\t12 - ['5', '7'] [4]\n",
      "\t\t\t\t\t\t\t\t\t\t\t\t\t13 - ['5'] [2]\n",
      "\t\t\t\t\t\t\t\t\t\t\t\t\t13 - ['7'] [2]\n",
      "\t\t\t\t\t\t\t\t\t\t\t\t12 - ['q', '8', '0', 'B', 'O'] [6]\n",
      "\t\t\t\t\t\t\t\t\t\t\t\t\t13 - ['q'] [2]\n",
      "\t\t\t\t\t\t\t\t\t\t\t\t\t13 - ['8', '0', 'B', 'O'] [4]\n",
      "\t\t\t\t\t\t\t\t\t\t\t\t\t\t14 - ['8'] [1]\n",
      "\t\t\t\t\t\t\t\t\t\t\t\t\t\t14 - ['0', 'B', 'O'] [3]\n",
      "\t\t\t\t\t\t\t\t\t\t\t\t\t\t\t15 - ['0'] [1]\n",
      "\t\t\t\t\t\t\t\t\t\t\t\t\t\t\t15 - ['B', 'O'] [2]\n",
      "\t\t\t\t\t\t\t\t\t\t\t\t\t\t\t\t16 - ['B'] [1]\n",
      "\t\t\t\t\t\t\t\t\t\t\t\t\t\t\t\t16 - ['O'] [1]\n"
     ]
    }
   ],
   "source": [
    "tree_from_file(file_name)"
   ]
  },
  {
   "cell_type": "code",
   "execution_count": 41,
   "metadata": {},
   "outputs": [
    {
     "name": "stdout",
     "output_type": "stream",
     "text": [
      "Total number of characters: 9881 \n",
      "Number of distinct characters: 65 \n",
      "Total number of bits needed to encode the text: 44218 \n",
      "Average number of bits per character: 4.48\n",
      "0 - ['3', 'u', 'i', 'T', ')', 'y', 'B', 'h', '.', 'n', '8', '-', 'C', 'f', '/', '\\n', 'l', 'r', '2', 't', '9', 'w', 'L', 'g', 'e', 'q', '0', 'a', '6', '1', 'x', 'R', '\"', 'D', 'P', '4', 'o', 'M', ':', '\\t', 'k', 'b', 'O', ' ', 'H', 'v', 'd', 'm', '7', ',', 's', 'U', 'j', 'A', 'W', 'G', '(', 'F', 'S', 'p', \"'\", 'c', 'I', 'E', '5'] [9881]\n",
      "\t1 - ['3', 'T', ')', 'i', 'y', '.', '-', 'C', 'f', '2', 't', 'w', 'g', 'a', '1', 'x', 'D', 'P', ':', '\\t', 'k', 'b', ' ', 'd', 'm', ',', 'U', 'A', 'W', 'G', '(', 'p', 'c'] [5690]\n",
      "\t\t2 - ['3', 'T', '.', '-', 'C', '2', 't', 'w', '1', 'D', 'P', ':', '\\t', 'k', 'b', ' ', 'm', ',', 'U', 'W', 'G', '('] [3058]\n",
      "\t\t\t3 - ['3', 'T', '.', '-', 'C', '2', 't', 'w', '1', 'D', 'P', ':', '\\t', 'k', 'b', 'm', ',', 'U', 'W', 'G', '('] [1619]\n",
      "\t\t\t\t4 - ['3', 'T', '.', '-', 'C', '2', 'w', '1', 'D', 'P', '\\t', 'k', ':', 'b', 'm', ',', 'U', 'W', 'G', '('] [829]\n",
      "\t\t\t\t\t5 - ['3', 'W', ':', 'm', ',', 'k', 'D', '\\t'] [429]\n",
      "\t\t\t\t\t\t6 - ['3', 'W', ':', '\\t', ',', 'D', 'k'] [218]\n",
      "\t\t\t\t\t\t\t7 - ['3', 'W', 'k', ',', 'D', ':'] [112]\n",
      "\t\t\t\t\t\t\t\t8 - ['3', 'W', 'k', 'D', ':'] [57]\n",
      "\t\t\t\t\t\t\t\t\t9 - ['k'] [29]\n",
      "\t\t\t\t\t\t\t\t\t9 - ['3', 'D', 'W', ':'] [28]\n",
      "\t\t\t\t\t\t\t\t\t\t10 - [':'] [15]\n",
      "\t\t\t\t\t\t\t\t\t\t10 - ['3', 'D', 'W'] [13]\n",
      "\t\t\t\t\t\t\t\t\t\t\t11 - ['3'] [7]\n",
      "\t\t\t\t\t\t\t\t\t\t\t11 - ['D', 'W'] [6]\n",
      "\t\t\t\t\t\t\t\t\t\t\t\t12 - ['D'] [3]\n",
      "\t\t\t\t\t\t\t\t\t\t\t\t12 - ['W'] [3]\n",
      "\t\t\t\t\t\t\t\t8 - [','] [55]\n",
      "\t\t\t\t\t\t\t7 - ['\\t'] [106]\n",
      "\t\t\t\t\t\t6 - ['m'] [211]\n",
      "\t\t\t\t\t5 - ['b', 'G', '2', 'T', '(', 'w', '.', '1', '-', 'P', 'U', 'C'] [400]\n",
      "\t\t\t\t\t\t6 - ['b', '.'] [209]\n",
      "\t\t\t\t\t\t\t7 - ['.'] [105]\n",
      "\t\t\t\t\t\t\t7 - ['b'] [104]\n",
      "\t\t\t\t\t\t6 - ['G', '2', 'T', '(', 'w', '1', '-', 'P', 'U', 'C'] [191]\n",
      "\t\t\t\t\t\t\t7 - ['G', 'T', '2', '(', '1', '-', 'P', 'U', 'C'] [96]\n",
      "\t\t\t\t\t\t\t\t8 - ['G', '(', '1', 'P', 'U'] [50]\n",
      "\t\t\t\t\t\t\t\t\t9 - ['P', 'U'] [26]\n",
      "\t\t\t\t\t\t\t\t\t\t10 - ['U'] [13]\n",
      "\t\t\t\t\t\t\t\t\t\t10 - ['P'] [13]\n",
      "\t\t\t\t\t\t\t\t\t9 - ['1', 'G', '('] [24]\n",
      "\t\t\t\t\t\t\t\t\t\t10 - ['G', '('] [12]\n",
      "\t\t\t\t\t\t\t\t\t\t\t11 - ['G'] [6]\n",
      "\t\t\t\t\t\t\t\t\t\t\t11 - ['('] [6]\n",
      "\t\t\t\t\t\t\t\t\t\t10 - ['1'] [12]\n",
      "\t\t\t\t\t\t\t\t8 - ['-', 'T', '2', 'C'] [46]\n",
      "\t\t\t\t\t\t\t\t\t9 - ['C'] [24]\n",
      "\t\t\t\t\t\t\t\t\t9 - ['-', 'T', '2'] [22]\n",
      "\t\t\t\t\t\t\t\t\t\t10 - ['-', '2'] [11]\n",
      "\t\t\t\t\t\t\t\t\t\t\t11 - ['2'] [6]\n",
      "\t\t\t\t\t\t\t\t\t\t\t11 - ['-'] [5]\n",
      "\t\t\t\t\t\t\t\t\t\t10 - ['T'] [11]\n",
      "\t\t\t\t\t\t\t7 - ['w'] [95]\n",
      "\t\t\t\t4 - ['t'] [790]\n",
      "\t\t\t3 - [' '] [1439]\n",
      "\t\t2 - ['f', 'A', ')', 'i', 'y', 'g', 'd', 'a', 'x', 'p', 'c'] [2632]\n",
      "\t\t\t3 - ['f', 'A', ')', 'y', 'g', 'd', 'x', 'p', 'c'] [1368]\n",
      "\t\t\t\t4 - ['f', 'A', ')', 'y', 'd', 'x'] [721]\n",
      "\t\t\t\t\t5 - ['d'] [373]\n",
      "\t\t\t\t\t5 - ['f', 'A', ')', 'y', 'x'] [348]\n",
      "\t\t\t\t\t\t6 - ['A', 'x', ')', 'y'] [174]\n",
      "\t\t\t\t\t\t\t7 - ['y'] [89]\n",
      "\t\t\t\t\t\t\t7 - ['A', 'x', ')'] [85]\n",
      "\t\t\t\t\t\t\t\t8 - ['x', ')'] [43]\n",
      "\t\t\t\t\t\t\t\t\t9 - ['x'] [22]\n",
      "\t\t\t\t\t\t\t\t\t9 - [')'] [21]\n",
      "\t\t\t\t\t\t\t\t8 - ['A'] [42]\n",
      "\t\t\t\t\t\t6 - ['f'] [174]\n",
      "\t\t\t\t4 - ['g', 'p', 'c'] [647]\n",
      "\t\t\t\t\t5 - ['c'] [333]\n",
      "\t\t\t\t\t5 - ['g', 'p'] [314]\n",
      "\t\t\t\t\t\t6 - ['p'] [167]\n",
      "\t\t\t\t\t\t6 - ['g'] [147]\n",
      "\t\t\t3 - ['i', 'a'] [1264]\n",
      "\t\t\t\t4 - ['i'] [644]\n",
      "\t\t\t\t4 - ['a'] [620]\n",
      "\t1 - ['u', 'B', 'h', 'n', '8', '/', '\\n', 'l', 'r', '9', 'L', 'e', 'q', '0', '6', 'R', '\"', '4', 'o', 'M', 'O', 'H', 'v', '7', 's', 'F', 'S', \"'\", 'j', 'I', 'E', '5'] [4191]\n",
      "\t\t2 - ['u', 'B', '8', 'n', '/', '\\n', '9', 'L', 'q', '0', '6', 'R', '\"', '4', 'o', 'M', 'O', 'H', 'v', '7', 's', 'F', 'S', \"'\", 'j', 'I', 'E', '5'] [2300]\n",
      "\t\t\t3 - ['n', 'o'] [1230]\n",
      "\t\t\t\t4 - ['o'] [615]\n",
      "\t\t\t\t4 - ['n'] [615]\n",
      "\t\t\t3 - ['u', 'B', '8', '/', '\\n', '9', 'L', 'q', '0', '6', 'R', '\"', '4', 'M', 'O', 'H', 'v', '7', 's', 'F', 'S', \"'\", 'j', 'I', 'E', '5'] [1070]\n",
      "\t\t\t\t4 - ['s'] [542]\n",
      "\t\t\t\t4 - ['u', 'B', '8', '/', '\\n', '9', 'L', 'q', '0', '6', 'R', '\"', '4', 'M', 'O', 'H', 'v', '7', 'F', 'S', \"'\", 'j', 'I', 'E', '5'] [528]\n",
      "\t\t\t\t\t5 - ['u'] [265]\n",
      "\t\t\t\t\t5 - ['B', '8', '/', '\\n', '9', 'L', 'q', '0', '6', 'R', '\"', '4', 'M', 'O', 'H', 'v', '7', 'F', 'S', \"'\", 'j', 'I', 'E', '5'] [263]\n",
      "\t\t\t\t\t\t6 - ['9', 'O', 'B', 'L', '8', 'H', 'q', '0', '6', '5', '7', 'v', 'j', '4', 'E', 'M', '/'] [138]\n",
      "\t\t\t\t\t\t\t7 - ['9', 'O', 'B', 'L', '8', 'H', 'q', '0', '6', '/', '7', 'j', '4', 'E', 'M', '5'] [71]\n",
      "\t\t\t\t\t\t\t\t8 - ['9', 'L', 'H', 'j', '4', 'E'] [38]\n",
      "\t\t\t\t\t\t\t\t\t9 - ['4', 'E', '9', 'H'] [20]\n",
      "\t\t\t\t\t\t\t\t\t\t10 - ['4', 'E'] [10]\n",
      "\t\t\t\t\t\t\t\t\t\t\t11 - ['E'] [5]\n",
      "\t\t\t\t\t\t\t\t\t\t\t11 - ['4'] [5]\n",
      "\t\t\t\t\t\t\t\t\t\t10 - ['H', '9'] [10]\n",
      "\t\t\t\t\t\t\t\t\t\t\t11 - ['H'] [5]\n",
      "\t\t\t\t\t\t\t\t\t\t\t11 - ['9'] [5]\n",
      "\t\t\t\t\t\t\t\t\t9 - ['L', 'j'] [18]\n",
      "\t\t\t\t\t\t\t\t\t\t10 - ['j'] [9]\n",
      "\t\t\t\t\t\t\t\t\t\t10 - ['L'] [9]\n",
      "\t\t\t\t\t\t\t\t8 - ['O', 'B', '8', 'q', '0', '6', '5', '7', 'M', '/'] [33]\n",
      "\t\t\t\t\t\t\t\t\t9 - ['M'] [17]\n",
      "\t\t\t\t\t\t\t\t\t9 - ['O', 'B', 'q', '8', '0', '6', '/', '7', '5'] [16]\n",
      "\t\t\t\t\t\t\t\t\t\t10 - ['O', 'B', '8', 'q', '0', '7'] [8]\n",
      "\t\t\t\t\t\t\t\t\t\t\t11 - ['8', '0', 'O', 'B'] [4]\n",
      "\t\t\t\t\t\t\t\t\t\t\t\t12 - ['O', 'B'] [2]\n",
      "\t\t\t\t\t\t\t\t\t\t\t\t\t13 - ['O'] [1]\n",
      "\t\t\t\t\t\t\t\t\t\t\t\t\t13 - ['B'] [1]\n",
      "\t\t\t\t\t\t\t\t\t\t\t\t12 - ['8', '0'] [2]\n",
      "\t\t\t\t\t\t\t\t\t\t\t\t\t13 - ['0'] [1]\n",
      "\t\t\t\t\t\t\t\t\t\t\t\t\t13 - ['8'] [1]\n",
      "\t\t\t\t\t\t\t\t\t\t\t11 - ['7', 'q'] [4]\n",
      "\t\t\t\t\t\t\t\t\t\t\t\t12 - ['q'] [2]\n",
      "\t\t\t\t\t\t\t\t\t\t\t\t12 - ['7'] [2]\n",
      "\t\t\t\t\t\t\t\t\t\t10 - ['6', '5', '/'] [8]\n",
      "\t\t\t\t\t\t\t\t\t\t\t11 - ['/', '5'] [4]\n",
      "\t\t\t\t\t\t\t\t\t\t\t\t12 - ['5'] [2]\n",
      "\t\t\t\t\t\t\t\t\t\t\t\t12 - ['/'] [2]\n",
      "\t\t\t\t\t\t\t\t\t\t\t11 - ['6'] [4]\n",
      "\t\t\t\t\t\t\t7 - ['v'] [67]\n",
      "\t\t\t\t\t\t6 - ['\\n', 'F', 'S', 'R', \"'\", '\"', 'I'] [125]\n",
      "\t\t\t\t\t\t\t7 - ['F', 'S', 'R', '\"', \"'\", 'I'] [64]\n",
      "\t\t\t\t\t\t\t\t8 - ['F', 'R', \"'\", '\"'] [32]\n",
      "\t\t\t\t\t\t\t\t\t9 - ['F', '\"'] [16]\n",
      "\t\t\t\t\t\t\t\t\t\t10 - ['F'] [8]\n",
      "\t\t\t\t\t\t\t\t\t\t10 - ['\"'] [8]\n",
      "\t\t\t\t\t\t\t\t\t9 - ['R', \"'\"] [16]\n",
      "\t\t\t\t\t\t\t\t\t\t10 - ['R'] [8]\n",
      "\t\t\t\t\t\t\t\t\t\t10 - [\"'\"] [8]\n",
      "\t\t\t\t\t\t\t\t8 - ['S', 'I'] [32]\n",
      "\t\t\t\t\t\t\t\t\t9 - ['S'] [16]\n",
      "\t\t\t\t\t\t\t\t\t9 - ['I'] [16]\n",
      "\t\t\t\t\t\t\t7 - ['\\n'] [61]\n",
      "\t\t2 - ['l', 'r', 'e', 'h'] [1891]\n",
      "\t\t\t3 - ['l', 'r', 'h'] [967]\n",
      "\t\t\t\t4 - ['l', 'h'] [484]\n",
      "\t\t\t\t\t5 - ['h'] [243]\n",
      "\t\t\t\t\t5 - ['l'] [241]\n",
      "\t\t\t\t4 - ['r'] [483]\n",
      "\t\t\t3 - ['e'] [924]\n",
      "0.0015728473663330078\n"
     ]
    }
   ],
   "source": [
    "import time\n",
    "\n",
    "start = time.time()\n",
    "tree_from_file_2(file_name)\n",
    "end = time.time()\n",
    "\n",
    "print(end - start)"
   ]
  }
 ],
 "metadata": {
  "kernelspec": {
   "display_name": "Python 3",
   "language": "python",
   "name": "python3"
  },
  "language_info": {
   "codemirror_mode": {
    "name": "ipython",
    "version": 3
   },
   "file_extension": ".py",
   "mimetype": "text/x-python",
   "name": "python",
   "nbconvert_exporter": "python",
   "pygments_lexer": "ipython3",
   "version": "3.11.3"
  }
 },
 "nbformat": 4,
 "nbformat_minor": 2
}

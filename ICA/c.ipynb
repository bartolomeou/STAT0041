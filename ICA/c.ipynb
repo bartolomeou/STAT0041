{
 "cells": [
  {
   "cell_type": "code",
   "execution_count": 1,
   "metadata": {},
   "outputs": [],
   "source": [
    "import numpy as np"
   ]
  },
  {
   "cell_type": "code",
   "execution_count": 2,
   "metadata": {},
   "outputs": [],
   "source": [
    "#   .txt\n",
    "file_name = 'test.txt'"
   ]
  },
  {
   "cell_type": "markdown",
   "metadata": {},
   "source": [
    "### Deliverable 1\n"
   ]
  },
  {
   "cell_type": "code",
   "execution_count": 79,
   "metadata": {},
   "outputs": [
    {
     "name": "stdout",
     "output_type": "stream",
     "text": [
      "Total number of characters: 201 \n",
      "Number of distinct characters: 28 \n",
      "Total number of bits needed to encode the text: 804 \n",
      "Average number of bits per character: 4\n"
     ]
    }
   ],
   "source": [
    "file = open(file_name, 'r')\n",
    "content = file.read()\n",
    "file.close()\n",
    "\n",
    "num_char = len(content)\n",
    "\n",
    "unique_char = set(content)\n",
    "num_unique_char = len(unique_char)\n",
    "\n",
    "# each character is encoded by the same number of bits\n",
    "average_bit = int(np.ceil(np.log(num_unique_char)))\n",
    "total_bit = average_bit * num_char\n",
    "\n",
    "# print(content, end='\\n\\n')\n",
    "# print(unique_char, end='\\n\\n')\n",
    "\n",
    "print('Total number of characters: {} \\nNumber of distinct characters: {} \\nTotal number of bits needed to encode the text: {} \\nAverage number of bits per character: {}'.format(\n",
    "    num_char, num_unique_char, total_bit, average_bit))"
   ]
  },
  {
   "cell_type": "markdown",
   "metadata": {},
   "source": [
    "### Deliverable 2\n"
   ]
  },
  {
   "cell_type": "code",
   "execution_count": 19,
   "metadata": {},
   "outputs": [
    {
     "name": "stdout",
     "output_type": "stream",
     "text": [
      "['v', 'B', 'k', ',', 'I', 'p', 'b', 'f', 'w', 'm', 'g', '\\n', 'T', 'u', 'c', 'd', '.', 'l', 'a', 'r', 'h', 'n', 't', 's', 'i', 'o', 'e', ' ']\n",
      "Total numer of bits: 4157 \n",
      "Average number of bits: 20.681592039800996\n"
     ]
    }
   ],
   "source": [
    "file = open(file_name, 'r')\n",
    "content = file.read()\n",
    "file.close()\n",
    "\n",
    "num_char = len(content)\n",
    "\n",
    "char_freq = dict()\n",
    "for char in content:\n",
    "    char_freq[char] = char_freq.get(char, 0) + 1\n",
    "\n",
    "# sort unique characters by frequency in descending order\n",
    "sorted_unique_chars = sorted(\n",
    "    char_freq.keys(), key=lambda char: char_freq[char])\n",
    "print(sorted_unique_chars)\n",
    "\n",
    "total_bit = 0\n",
    "i = 1\n",
    "for char in sorted_unique_chars:\n",
    "    total_bit += char_freq[char] * i\n",
    "    i += 1\n",
    "\n",
    "average_bit = total_bit / num_char\n",
    "\n",
    "print('Total numer of bits: {} \\nAverage number of bits: {}'.format(\n",
    "    total_bit, average_bit))"
   ]
  },
  {
   "cell_type": "markdown",
   "metadata": {},
   "source": [
    "### Deliverable 3\n"
   ]
  },
  {
   "cell_type": "code",
   "execution_count": 3,
   "metadata": {},
   "outputs": [],
   "source": [
    "class Node:\n",
    "    def __init__(self, chars, freq, left=None, right=None):\n",
    "        self.chars = chars\n",
    "        self.freq = freq\n",
    "        self.left = left\n",
    "        self.right = right"
   ]
  },
  {
   "cell_type": "code",
   "execution_count": 4,
   "metadata": {},
   "outputs": [],
   "source": [
    "def get_char_freq(file_name):\n",
    "    file = open(file_name, 'r')\n",
    "    content = file.read()\n",
    "    file.close()\n",
    "\n",
    "    char_freq = dict()\n",
    "    for char in content:\n",
    "        char_freq[char] = char_freq.get(char, 0) + 1\n",
    "\n",
    "    return char_freq"
   ]
  },
  {
   "cell_type": "code",
   "execution_count": 24,
   "metadata": {},
   "outputs": [],
   "source": [
    "def create_node(char_freq):\n",
    "    nodes = list()\n",
    "\n",
    "    for char, freq in char_freq.items():\n",
    "        nodes.append(Node([char], freq))\n",
    "\n",
    "    return nodes"
   ]
  },
  {
   "cell_type": "code",
   "execution_count": 20,
   "metadata": {},
   "outputs": [],
   "source": [
    "def merge_tree(left_root, right_root):\n",
    "    chars = list(set(left_root.chars + right_root.chars))\n",
    "    freq = left_root.freq + right_root.freq\n",
    "\n",
    "    return Node(chars, freq, left_root, right_root)"
   ]
  },
  {
   "cell_type": "code",
   "execution_count": 22,
   "metadata": {},
   "outputs": [],
   "source": [
    "def create_binary_tree(nodes):\n",
    "    sorted_nodes = sorted(nodes, key=lambda x: x.freq)\n",
    "\n",
    "    root = sorted_nodes[0]\n",
    "    for i in range(1, len(sorted_nodes), 1):\n",
    "        root = merge_tree(sorted_nodes[i], root)\n",
    "\n",
    "    return root"
   ]
  },
  {
   "cell_type": "code",
   "execution_count": 25,
   "metadata": {},
   "outputs": [
    {
     "data": {
      "text/plain": [
       "<__main__.Node at 0x10af287d0>"
      ]
     },
     "execution_count": 25,
     "metadata": {},
     "output_type": "execute_result"
    }
   ],
   "source": [
    "test_case = {'a': 20, 'b': 2, 'c': 1}\n",
    "root = create_binary_tree(create_node(test_case))"
   ]
  },
  {
   "cell_type": "code",
   "execution_count": null,
   "metadata": {},
   "outputs": [],
   "source": []
  }
 ],
 "metadata": {
  "kernelspec": {
   "display_name": "Python 3",
   "language": "python",
   "name": "python3"
  },
  "language_info": {
   "codemirror_mode": {
    "name": "ipython",
    "version": 3
   },
   "file_extension": ".py",
   "mimetype": "text/x-python",
   "name": "python",
   "nbconvert_exporter": "python",
   "pygments_lexer": "ipython3",
   "version": "3.11.3"
  }
 },
 "nbformat": 4,
 "nbformat_minor": 2
}

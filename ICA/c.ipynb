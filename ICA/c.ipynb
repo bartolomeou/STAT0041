{
 "cells": [
  {
   "cell_type": "code",
   "execution_count": 153,
   "metadata": {},
   "outputs": [],
   "source": [
    "import numpy as np"
   ]
  },
  {
   "cell_type": "code",
   "execution_count": 154,
   "metadata": {},
   "outputs": [],
   "source": [
    "#   .txt\n",
    "file_name = '01 - The Fellowship Of The Ring.txt'"
   ]
  },
  {
   "cell_type": "markdown",
   "metadata": {},
   "source": [
    "### Deliverable 1\n"
   ]
  },
  {
   "cell_type": "code",
   "execution_count": 155,
   "metadata": {},
   "outputs": [
    {
     "name": "stdout",
     "output_type": "stream",
     "text": [
      "Total number of characters: 1024530 \n",
      "Number of distinct characters: 81 \n",
      "Total number of bits needed to encode the text: 4497686.699999999 \n",
      "Average number of bits per character: 4.39\n"
     ]
    }
   ],
   "source": [
    "file = open(file_name, 'r')\n",
    "content = file.read()\n",
    "file.close()\n",
    "\n",
    "num_char = len(content)\n",
    "\n",
    "unique_char = set(content)\n",
    "num_unique_char = len(unique_char)\n",
    "\n",
    "# each character is encoded by the same number of bits\n",
    "average_bit = np.round((np.log(num_unique_char)), 2)\n",
    "total_bit = average_bit * num_char\n",
    "\n",
    "# print(content, end='\\n\\n')\n",
    "# print(unique_char, end='\\n\\n')\n",
    "\n",
    "print('Total number of characters: {} \\nNumber of distinct characters: {} \\nTotal number of bits needed to encode the text: {} \\nAverage number of bits per character: {}'.format(\n",
    "    num_char, num_unique_char, total_bit, average_bit))"
   ]
  },
  {
   "cell_type": "markdown",
   "metadata": {},
   "source": [
    "### Deliverable 2\n"
   ]
  },
  {
   "cell_type": "code",
   "execution_count": 156,
   "metadata": {},
   "outputs": [
    {
     "name": "stdout",
     "output_type": "stream",
     "text": [
      "[' ', 'e', 't', 'a', 'o', 'n', 'h', 'i', 'r', 's', 'd', 'l', 'u', 'w', 'g', 'f', 'm', 'y', 'c', ',', '.', 'b', 'p', \"'\", 'k', 'v', '\\n', 'I', 'T', 'B', 'S', 'F', 'A', 'H', '-', '!', 'G', ';', 'W', 'M', '`', 'E', 'R', '_', '?', ':', 'N', 'L', 'O', 'D', '�', 'C', 'Y', 'q', 'P', 'x', 'j', '\"', 'z', '(', ')', 'U', 'K', '1', 'V', '=', 'J', '2', '3', '4', '9', 'Q', '0', '7', '6', '8', '5', '\\t', '/', 'X', 'Z']\n",
      "Total numer of bits: 8674542 \n",
      "Average number of bits: 8.47\n"
     ]
    }
   ],
   "source": [
    "file = open(file_name, 'r')\n",
    "content = file.read()\n",
    "file.close()\n",
    "\n",
    "num_char = len(content)\n",
    "\n",
    "char_freq = dict()\n",
    "for char in content:\n",
    "    char_freq[char] = char_freq.get(char, 0) + 1\n",
    "\n",
    "# sort unique characters by frequency in descending order\n",
    "sorted_unique_chars = sorted(\n",
    "    char_freq.keys(), key=lambda char: char_freq[char], reverse=True)\n",
    "\n",
    "print(sorted_unique_chars)\n",
    "\n",
    "total_bit = 0\n",
    "i = 1\n",
    "for char in sorted_unique_chars:\n",
    "    total_bit += char_freq[char] * i\n",
    "    i += 1\n",
    "\n",
    "average_bit = np.round(total_bit / num_char, 2)\n",
    "\n",
    "print('Total numer of bits: {} \\nAverage number of bits: {}'.format(\n",
    "    total_bit, average_bit))"
   ]
  },
  {
   "cell_type": "markdown",
   "metadata": {},
   "source": [
    "### Deliverable 3\n"
   ]
  },
  {
   "cell_type": "code",
   "execution_count": 157,
   "metadata": {},
   "outputs": [],
   "source": [
    "class Node:\n",
    "    def __init__(self, chars, freq, left=None, right=None):\n",
    "        self.chars = chars\n",
    "        self.freq = freq\n",
    "        self.left = left\n",
    "        self.right = right"
   ]
  },
  {
   "cell_type": "code",
   "execution_count": 158,
   "metadata": {},
   "outputs": [],
   "source": [
    "def get_char_freq(file_name):\n",
    "    file = open(file_name, 'r')\n",
    "    content = file.read()\n",
    "    file.close()\n",
    "\n",
    "    char_freq = dict()\n",
    "    for char in content:\n",
    "        char_freq[char] = char_freq.get(char, 0) + 1\n",
    "\n",
    "    return char_freq"
   ]
  },
  {
   "cell_type": "code",
   "execution_count": 159,
   "metadata": {},
   "outputs": [],
   "source": [
    "def create_node(char_freq):\n",
    "    nodes = list()\n",
    "\n",
    "    for char, freq in char_freq.items():\n",
    "        nodes.append(Node([char], freq))\n",
    "\n",
    "    return nodes"
   ]
  },
  {
   "cell_type": "code",
   "execution_count": 160,
   "metadata": {},
   "outputs": [],
   "source": [
    "def merge_trees(left_root, right_root):\n",
    "    chars = list(set(left_root.chars + right_root.chars))\n",
    "    freq = left_root.freq + right_root.freq\n",
    "\n",
    "    return Node(chars, freq, left_root, right_root)"
   ]
  },
  {
   "cell_type": "code",
   "execution_count": 161,
   "metadata": {},
   "outputs": [],
   "source": [
    "def create_binary_tree(nodes):\n",
    "    sorted_nodes = sorted(nodes, key=lambda x: x.freq)\n",
    "\n",
    "    root = sorted_nodes[0]\n",
    "    for i in range(1, len(sorted_nodes), 1):\n",
    "        root = merge_trees(sorted_nodes[i], root)\n",
    "\n",
    "    return root"
   ]
  },
  {
   "cell_type": "code",
   "execution_count": 162,
   "metadata": {},
   "outputs": [],
   "source": [
    "# HELPER\n",
    "def visualise_tree(root, level=0):\n",
    "    print(('\\t' * level) + '{} - {} [{}]'.format(level, root.chars, root.freq))\n",
    "\n",
    "    level += 1\n",
    "    if root.left:\n",
    "        visualise_tree(root.left, level)\n",
    "\n",
    "    if root.right:\n",
    "        visualise_tree(root.right, level)"
   ]
  },
  {
   "cell_type": "code",
   "execution_count": 163,
   "metadata": {},
   "outputs": [
    {
     "name": "stdout",
     "output_type": "stream",
     "text": [
      "0 - ['a', 'b', 'c'] [23]\n",
      "\t1 - ['a'] [20]\n",
      "\t1 - ['b', 'c'] [3]\n",
      "\t\t2 - ['b'] [2]\n",
      "\t\t2 - ['c'] [1]\n"
     ]
    }
   ],
   "source": [
    "test_case = {'a': 20, 'b': 2, 'c': 1}\n",
    "root_test_case = create_binary_tree(create_node(test_case))\n",
    "\n",
    "visualise_tree(root_test_case)"
   ]
  },
  {
   "cell_type": "markdown",
   "metadata": {},
   "source": [
    "### Deliverable 4\n"
   ]
  },
  {
   "cell_type": "code",
   "execution_count": 164,
   "metadata": {},
   "outputs": [],
   "source": [
    "def find_in_tree(char, root):\n",
    "    level = 0\n",
    "    while root:\n",
    "        if not root.left:\n",
    "            if char == root.chars[0]:\n",
    "                return level\n",
    "            else:\n",
    "                break\n",
    "\n",
    "        level += 1\n",
    "        if char == root.left.chars[0]:\n",
    "            return level\n",
    "\n",
    "        root = root.right\n",
    "\n",
    "    return 'None'"
   ]
  },
  {
   "cell_type": "code",
   "execution_count": 165,
   "metadata": {},
   "outputs": [
    {
     "data": {
      "text/plain": [
       "1"
      ]
     },
     "execution_count": 165,
     "metadata": {},
     "output_type": "execute_result"
    }
   ],
   "source": [
    "find_in_tree('a', root_test_case)"
   ]
  },
  {
   "cell_type": "code",
   "execution_count": 166,
   "metadata": {},
   "outputs": [
    {
     "data": {
      "text/plain": [
       "2"
      ]
     },
     "execution_count": 166,
     "metadata": {},
     "output_type": "execute_result"
    }
   ],
   "source": [
    "find_in_tree('b', root_test_case)"
   ]
  },
  {
   "cell_type": "code",
   "execution_count": 167,
   "metadata": {},
   "outputs": [
    {
     "data": {
      "text/plain": [
       "2"
      ]
     },
     "execution_count": 167,
     "metadata": {},
     "output_type": "execute_result"
    }
   ],
   "source": [
    "find_in_tree('c', root_test_case)"
   ]
  },
  {
   "cell_type": "code",
   "execution_count": 168,
   "metadata": {},
   "outputs": [
    {
     "data": {
      "text/plain": [
       "'None'"
      ]
     },
     "execution_count": 168,
     "metadata": {},
     "output_type": "execute_result"
    }
   ],
   "source": [
    "find_in_tree('d', root_test_case)"
   ]
  },
  {
   "cell_type": "markdown",
   "metadata": {},
   "source": [
    "### Deliverable 5\n"
   ]
  },
  {
   "cell_type": "code",
   "execution_count": 197,
   "metadata": {},
   "outputs": [],
   "source": [
    "def tree_from_file(file_name):\n",
    "    file = open(file_name, 'r')\n",
    "    content = file.read()\n",
    "    file.close()\n",
    "\n",
    "    num_char = len(content)\n",
    "\n",
    "    char_freq = dict()\n",
    "    for char in content:\n",
    "        char_freq[char] = char_freq.get(char, 0) + 1\n",
    "\n",
    "    # sort unique characters by frequency in descending order\n",
    "    sorted_unique_chars = sorted(\n",
    "        char_freq.keys(), key=lambda char: char_freq[char], reverse=True)\n",
    "\n",
    "    def create_binary_tree(sorted_unique_chars):\n",
    "        nonlocal char_freq\n",
    "\n",
    "        freq = sum(char_freq[char] for char in sorted_unique_chars)\n",
    "        node = Node(sorted_unique_chars, freq)\n",
    "\n",
    "        n = len(sorted_unique_chars)\n",
    "        if n == 1:\n",
    "            return node\n",
    "        elif n == 2:\n",
    "            node.left = Node([sorted_unique_chars[0]],\n",
    "                             char_freq[sorted_unique_chars[0]])\n",
    "            node.right = Node([sorted_unique_chars[1]],\n",
    "                              char_freq[sorted_unique_chars[1]])\n",
    "            return node\n",
    "\n",
    "        left = 0\n",
    "        right = freq\n",
    "\n",
    "        for i in range(0, n, 1):\n",
    "            if left >= right:\n",
    "                node.left = create_binary_tree(sorted_unique_chars[0:i])\n",
    "                node.right = create_binary_tree(sorted_unique_chars[i:])\n",
    "                return node\n",
    "\n",
    "            left += char_freq[sorted_unique_chars[i]]\n",
    "            right -= char_freq[sorted_unique_chars[i]]\n",
    "\n",
    "    node = create_binary_tree(sorted_unique_chars)\n",
    "\n",
    "    def calculate_bit(node, level=0):\n",
    "        if node.left is None and node.right is None:\n",
    "            return node.freq * level\n",
    "        else:\n",
    "            level += 1\n",
    "            return calculate_bit(node.left, level) + calculate_bit(node.right, level)\n",
    "\n",
    "    total_bit = calculate_bit(node)\n",
    "\n",
    "    average_bit = np.round(total_bit / num_char, 2)\n",
    "\n",
    "    print('Total number of characters: {} \\nNumber of distinct characters: {} \\nTotal number of bits needed to encode the text: {} \\nAverage number of bits per character: {}'.format(\n",
    "        num_char, len(sorted_unique_chars), total_bit, average_bit))\n",
    "\n",
    "    visualise_tree(node)"
   ]
  },
  {
   "cell_type": "code",
   "execution_count": 196,
   "metadata": {},
   "outputs": [
    {
     "name": "stdout",
     "output_type": "stream",
     "text": [
      "Total number of characters: 1024530 \n",
      "Number of distinct characters: 81 \n",
      "Total number of bits needed to encode the text: 4581141 \n",
      "Average number of bits per character: 4.47\n"
     ]
    },
    {
     "data": {
      "text/plain": [
       "<__main__.Node at 0x10cfe9a50>"
      ]
     },
     "execution_count": 196,
     "metadata": {},
     "output_type": "execute_result"
    }
   ],
   "source": [
    "tree_from_file(file_name)"
   ]
  },
  {
   "cell_type": "code",
   "execution_count": null,
   "metadata": {},
   "outputs": [],
   "source": []
  }
 ],
 "metadata": {
  "kernelspec": {
   "display_name": "Python 3",
   "language": "python",
   "name": "python3"
  },
  "language_info": {
   "codemirror_mode": {
    "name": "ipython",
    "version": 3
   },
   "file_extension": ".py",
   "mimetype": "text/x-python",
   "name": "python",
   "nbconvert_exporter": "python",
   "pygments_lexer": "ipython3",
   "version": "3.11.3"
  }
 },
 "nbformat": 4,
 "nbformat_minor": 2
}

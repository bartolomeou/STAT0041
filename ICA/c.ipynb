{
 "cells": [
  {
   "cell_type": "code",
   "execution_count": null,
   "metadata": {},
   "outputs": [],
   "source": [
    "import numpy as np"
   ]
  },
  {
   "cell_type": "code",
   "execution_count": null,
   "metadata": {},
   "outputs": [],
   "source": [
    "#   .txt\n",
    "file_name = 'academicMisconduct.txt'"
   ]
  },
  {
   "cell_type": "markdown",
   "metadata": {},
   "source": [
    "### Deliverable 1\n"
   ]
  },
  {
   "cell_type": "code",
   "execution_count": null,
   "metadata": {},
   "outputs": [],
   "source": [
    "file = open(file_name, 'r')\n",
    "content = file.read()\n",
    "file.close()\n",
    "\n",
    "num_char = len(content)\n",
    "\n",
    "unique_char = set(content)\n",
    "num_unique_char = len(unique_char)\n",
    "\n",
    "# each character is encoded by the same number of bits\n",
    "average_bit = np.round((np.log(num_unique_char)), 2)\n",
    "total_bit = np.round(average_bit * num_char)\n",
    "\n",
    "# print(content, end='\\n\\n')\n",
    "# print(unique_char, end='\\n\\n')\n",
    "\n",
    "print('Total number of characters: {} \\nNumber of distinct characters: {} \\nTotal number of bits needed to encode the text: {} \\nAverage number of bits per character: {}'.format(\n",
    "    num_char, num_unique_char, total_bit, average_bit))"
   ]
  },
  {
   "cell_type": "markdown",
   "metadata": {},
   "source": [
    "### Deliverable 2\n"
   ]
  },
  {
   "cell_type": "code",
   "execution_count": null,
   "metadata": {},
   "outputs": [],
   "source": [
    "file = open(file_name, 'r')\n",
    "content = file.read()\n",
    "file.close()\n",
    "\n",
    "num_char = len(content)\n",
    "\n",
    "char_freq = dict()\n",
    "for char in content:\n",
    "    char_freq[char] = char_freq.get(char, 0) + 1\n",
    "\n",
    "# sort unique characters by frequency in descending order\n",
    "sorted_unique_chars = sorted(\n",
    "    char_freq.keys(), key=lambda char: char_freq[char], reverse=True)\n",
    "\n",
    "print(sorted_unique_chars)\n",
    "\n",
    "total_bit = 0\n",
    "i = 1\n",
    "for char in sorted_unique_chars:\n",
    "    total_bit += char_freq[char] * i\n",
    "    i += 1\n",
    "\n",
    "average_bit = np.round(total_bit / num_char, 2)\n",
    "\n",
    "print('Total numer of bits: {} \\nAverage number of bits: {}'.format(\n",
    "    total_bit, average_bit))"
   ]
  },
  {
   "cell_type": "markdown",
   "metadata": {},
   "source": [
    "### Deliverable 3\n"
   ]
  },
  {
   "cell_type": "code",
   "execution_count": null,
   "metadata": {},
   "outputs": [],
   "source": [
    "class Node:\n",
    "    def __init__(self, chars, freq, left=None, right=None):\n",
    "        self.chars = chars\n",
    "        self.freq = freq\n",
    "        self.left = left\n",
    "        self.right = right"
   ]
  },
  {
   "cell_type": "code",
   "execution_count": null,
   "metadata": {},
   "outputs": [],
   "source": [
    "def get_char_freq(file_name):\n",
    "    file = open(file_name, 'r')\n",
    "    content = file.read()\n",
    "    file.close()\n",
    "\n",
    "    char_freq = dict()\n",
    "    for char in content:\n",
    "        char_freq[char] = char_freq.get(char, 0) + 1\n",
    "\n",
    "    return char_freq"
   ]
  },
  {
   "cell_type": "code",
   "execution_count": null,
   "metadata": {},
   "outputs": [],
   "source": [
    "def create_node(char_freq):\n",
    "    nodes = list()\n",
    "\n",
    "    for char, freq in char_freq.items():\n",
    "        nodes.append(Node([char], freq))\n",
    "\n",
    "    return nodes"
   ]
  },
  {
   "cell_type": "code",
   "execution_count": null,
   "metadata": {},
   "outputs": [],
   "source": [
    "def merge_trees(left_root, right_root):\n",
    "    chars = list(set(left_root.chars + right_root.chars))\n",
    "    freq = left_root.freq + right_root.freq\n",
    "\n",
    "    return Node(chars, freq, left_root, right_root)"
   ]
  },
  {
   "cell_type": "code",
   "execution_count": null,
   "metadata": {},
   "outputs": [],
   "source": [
    "def create_binary_tree(nodes):\n",
    "    sorted_nodes = sorted(nodes, key=lambda x: x.freq)\n",
    "\n",
    "    root = sorted_nodes[0]\n",
    "    for i in range(1, len(sorted_nodes), 1):\n",
    "        root = merge_trees(sorted_nodes[i], root)\n",
    "\n",
    "    return root"
   ]
  },
  {
   "cell_type": "code",
   "execution_count": null,
   "metadata": {},
   "outputs": [],
   "source": [
    "# HELPER\n",
    "def visualise_tree(root, level=0):\n",
    "    print(('\\t' * level) + '{} - {} [{}]'.format(level, root.chars, root.freq))\n",
    "\n",
    "    level += 1\n",
    "    if root.left:\n",
    "        visualise_tree(root.left, level)\n",
    "\n",
    "    if root.right:\n",
    "        visualise_tree(root.right, level)"
   ]
  },
  {
   "cell_type": "code",
   "execution_count": null,
   "metadata": {},
   "outputs": [],
   "source": [
    "test_case = {'a': 20, 'b': 2, 'c': 1}\n",
    "root = create_binary_tree(create_node(test_case))\n",
    "\n",
    "visualise_tree(root)"
   ]
  },
  {
   "cell_type": "markdown",
   "metadata": {},
   "source": [
    "### Deliverable 4\n"
   ]
  },
  {
   "cell_type": "code",
   "execution_count": null,
   "metadata": {},
   "outputs": [],
   "source": [
    "def find_in_tree(char, root):\n",
    "    level = 0\n",
    "    while root:\n",
    "        if not root.left:\n",
    "            if char == root.chars[0]:\n",
    "                return level\n",
    "            else:\n",
    "                break\n",
    "\n",
    "        level += 1\n",
    "        if char == root.left.chars[0]:\n",
    "            return level\n",
    "\n",
    "        root = root.right\n",
    "\n",
    "    return 'None'"
   ]
  },
  {
   "cell_type": "code",
   "execution_count": null,
   "metadata": {},
   "outputs": [],
   "source": [
    "find_in_tree('a', root_test_case)"
   ]
  },
  {
   "cell_type": "code",
   "execution_count": null,
   "metadata": {},
   "outputs": [],
   "source": [
    "find_in_tree('b', root_test_case)"
   ]
  },
  {
   "cell_type": "code",
   "execution_count": null,
   "metadata": {},
   "outputs": [],
   "source": [
    "find_in_tree('c', root_test_case)"
   ]
  },
  {
   "cell_type": "code",
   "execution_count": null,
   "metadata": {},
   "outputs": [],
   "source": [
    "find_in_tree('d', root_test_case)"
   ]
  },
  {
   "cell_type": "markdown",
   "metadata": {},
   "source": [
    "### Deliverable 5\n"
   ]
  },
  {
   "cell_type": "code",
   "execution_count": null,
   "metadata": {},
   "outputs": [],
   "source": [
    "def tree_from_file(file_name):\n",
    "    file = open(file_name, 'r')\n",
    "    content = file.read()\n",
    "    file.close()\n",
    "\n",
    "    char_freq = dict()\n",
    "    for char in content:\n",
    "        char_freq[char] = char_freq.get(char, 0) + 1\n",
    "\n",
    "    # sort unique characters by frequency in descending order\n",
    "    sorted_unique_chars = sorted(\n",
    "        char_freq.keys(), key=lambda char: char_freq[char], reverse=True)\n",
    "\n",
    "    def create_binary_tree(sorted_unique_chars):\n",
    "        nonlocal char_freq\n",
    "\n",
    "        freq = sum(char_freq[char] for char in sorted_unique_chars)\n",
    "        node = Node(sorted_unique_chars, freq)\n",
    "\n",
    "        n = len(sorted_unique_chars)\n",
    "        if n == 1:\n",
    "            return node\n",
    "        elif n == 2:\n",
    "            node.left = Node([sorted_unique_chars[0]],\n",
    "                             char_freq[sorted_unique_chars[0]])\n",
    "            node.right = Node([sorted_unique_chars[1]],\n",
    "                              char_freq[sorted_unique_chars[1]])\n",
    "            return node\n",
    "\n",
    "        left = 0\n",
    "        right = freq\n",
    "\n",
    "        for i in range(0, n, 1):\n",
    "            left += char_freq[sorted_unique_chars[i]]\n",
    "            right -= char_freq[sorted_unique_chars[i]]\n",
    "\n",
    "            if left >= right:\n",
    "                node.left = create_binary_tree(sorted_unique_chars[0:i])\n",
    "                node.right = create_binary_tree(sorted_unique_chars[i:])\n",
    "                return node\n",
    "\n",
    "    node = create_binary_tree(sorted_unique_chars)\n",
    "\n",
    "    def calculate_bit(node, level=0):\n",
    "        if node.left is None and node.right is None:\n",
    "            return node.freq * level\n",
    "        else:\n",
    "            level += 1\n",
    "            return calculate_bit(node.left, level) + calculate_bit(node.right, level)\n",
    "\n",
    "    total_bit = calculate_bit(node)\n",
    "\n",
    "    num_char = len(content)\n",
    "    average_bit = np.round(total_bit / num_char, 2)\n",
    "\n",
    "    print('Total number of characters: {} \\nNumber of distinct characters: {} \\nTotal number of bits needed to encode the text: {} \\nAverage number of bits per character: {}'.format(\n",
    "        num_char, len(sorted_unique_chars), total_bit, average_bit))\n",
    "\n",
    "    visualise_tree(node)"
   ]
  },
  {
   "cell_type": "code",
   "execution_count": 257,
   "metadata": {},
   "outputs": [],
   "source": [
    "def tree_from_file_2(file_name):\n",
    "    file = open(file_name, 'r')\n",
    "    content = file.read()\n",
    "    file.close()\n",
    "\n",
    "    char_freq = dict()\n",
    "    for char in content:\n",
    "        char_freq[char] = char_freq.get(char, 0) + 1\n",
    "\n",
    "    nodes = list()\n",
    "    for char, freq in char_freq.items():\n",
    "        nodes.append(Node([char], freq))\n",
    "\n",
    "    while len(nodes) > 1:\n",
    "        right_node = min(nodes, key=lambda node: node.freq)\n",
    "        nodes.remove(right_node)\n",
    "\n",
    "        left_node = min(nodes, key=lambda node: node.freq)\n",
    "        nodes.remove(left_node)\n",
    "\n",
    "        new_node = merge_trees(left_node, right_node)\n",
    "        nodes.append(new_node)\n",
    "\n",
    "    root = nodes[0]\n",
    "\n",
    "    def calculate_bit(node, level=0):\n",
    "        if node.left is None and node.right is None:\n",
    "            return node.freq * level\n",
    "        else:\n",
    "            level += 1\n",
    "            return calculate_bit(node.left, level) + calculate_bit(node.right, level)\n",
    "\n",
    "    total_bit = calculate_bit(root)\n",
    "\n",
    "    num_char = len(content)\n",
    "    average_bit = np.round(total_bit / num_char, 2)\n",
    "\n",
    "    print('Total number of characters: {} \\nNumber of distinct characters: {} \\nTotal number of bits needed to encode the text: {} \\nAverage number of bits per character: {}'.format(\n",
    "        num_char, len(sorted_unique_chars), total_bit, average_bit))\n",
    "\n",
    "    visualise_tree(root)"
   ]
  },
  {
   "cell_type": "code",
   "execution_count": null,
   "metadata": {},
   "outputs": [],
   "source": [
    "tree_from_file(file_name)"
   ]
  },
  {
   "cell_type": "code",
   "execution_count": 258,
   "metadata": {},
   "outputs": [
    {
     "name": "stdout",
     "output_type": "stream",
     "text": [
      "Total number of characters: 9881 \n",
      "Number of distinct characters: 65 \n",
      "Total number of bits needed to encode the text: 44218 \n",
      "Average number of bits per character: 4.48\n",
      "0 - ['C', 'y', 'j', 'D', 'h', 'S', 'k', 'p', '7', 'U', 'w', 'E', 'P', '/', 'x', '\"', 'L', 'r', '5', 'g', 'I', 't', 'o', ',', 'e', 'A', '\\n', 'u', 'f', '0', 'F', 'W', ':', 'v', '9', '.', 'B', '2', 'l', 'd', 's', 'c', 'H', '6', \"'\", 'O', '-', '1', 'i', 'm', '8', 'a', '3', ' ', 'n', 'b', 'G', ')', 'R', '(', '\\t', '4', 'T', 'M', 'q'] [9881]\n",
      "\t1 - ['C', 'y', 'T', 'k', 'p', 'U', 'w', 'P', 'x', 'g', 't', ',', 'A', 'f', 'W', ':', '.', '2', 'd', 'c', '-', '1', 'i', 'm', 'a', '3', ' ', 'b', 'G', ')', '(', '\\t', 'D'] [5690]\n",
      "\t\t2 - ['C', 'D', 'k', 'U', 'w', 'P', 't', ',', 'W', ':', '.', '2', '-', '1', 'm', '3', ' ', 'b', 'G', '(', '\\t', 'T'] [3058]\n",
      "\t\t\t3 - ['C', 'T', 'k', 'U', 'w', 'P', 't', ',', 'W', ':', '.', '2', '-', '1', 'm', '3', 'b', 'G', '(', '\\t', 'D'] [1619]\n",
      "\t\t\t\t4 - ['C', 'D', 'k', 'U', 'w', 'P', ',', 'W', ':', '.', '2', '-', '1', 'm', '3', 'b', 'G', '(', '\\t', 'T'] [829]\n",
      "\t\t\t\t\t5 - ['3', ',', 'k', 'W', ':', '\\t', 'D', 'm'] [429]\n",
      "\t\t\t\t\t\t6 - ['3', ',', 'k', 'W', ':', '\\t', 'D'] [218]\n",
      "\t\t\t\t\t\t\t7 - ['3', ',', 'k', 'W', ':', 'D'] [112]\n",
      "\t\t\t\t\t\t\t\t8 - ['3', 'k', 'W', ':', 'D'] [57]\n",
      "\t\t\t\t\t\t\t\t\t9 - ['k'] [29]\n",
      "\t\t\t\t\t\t\t\t\t9 - ['3', 'D', ':', 'W'] [28]\n",
      "\t\t\t\t\t\t\t\t\t\t10 - [':'] [15]\n",
      "\t\t\t\t\t\t\t\t\t\t10 - ['3', 'D', 'W'] [13]\n",
      "\t\t\t\t\t\t\t\t\t\t\t11 - ['3'] [7]\n",
      "\t\t\t\t\t\t\t\t\t\t\t11 - ['D', 'W'] [6]\n",
      "\t\t\t\t\t\t\t\t\t\t\t\t12 - ['D'] [3]\n",
      "\t\t\t\t\t\t\t\t\t\t\t\t12 - ['W'] [3]\n",
      "\t\t\t\t\t\t\t\t8 - [','] [55]\n",
      "\t\t\t\t\t\t\t7 - ['\\t'] [106]\n",
      "\t\t\t\t\t\t6 - ['m'] [211]\n",
      "\t\t\t\t\t5 - ['C', '2', 'U', 'b', 'w', 'G', 'P', '(', '-', '1', 'T', '.'] [400]\n",
      "\t\t\t\t\t\t6 - ['b', '.'] [209]\n",
      "\t\t\t\t\t\t\t7 - ['.'] [105]\n",
      "\t\t\t\t\t\t\t7 - ['b'] [104]\n",
      "\t\t\t\t\t\t6 - ['C', '2', 'U', 'w', 'G', 'P', '(', '-', '1', 'T'] [191]\n",
      "\t\t\t\t\t\t\t7 - ['C', '2', 'U', 'G', 'P', '(', '-', '1', 'T'] [96]\n",
      "\t\t\t\t\t\t\t\t8 - ['U', 'G', 'P', '(', '1'] [50]\n",
      "\t\t\t\t\t\t\t\t\t9 - ['U', 'P'] [26]\n",
      "\t\t\t\t\t\t\t\t\t\t10 - ['U'] [13]\n",
      "\t\t\t\t\t\t\t\t\t\t10 - ['P'] [13]\n",
      "\t\t\t\t\t\t\t\t\t9 - ['G', '1', '('] [24]\n",
      "\t\t\t\t\t\t\t\t\t\t10 - ['G', '('] [12]\n",
      "\t\t\t\t\t\t\t\t\t\t\t11 - ['G'] [6]\n",
      "\t\t\t\t\t\t\t\t\t\t\t11 - ['('] [6]\n",
      "\t\t\t\t\t\t\t\t\t\t10 - ['1'] [12]\n",
      "\t\t\t\t\t\t\t\t8 - ['-', 'C', 'T', '2'] [46]\n",
      "\t\t\t\t\t\t\t\t\t9 - ['C'] [24]\n",
      "\t\t\t\t\t\t\t\t\t9 - ['-', 'T', '2'] [22]\n",
      "\t\t\t\t\t\t\t\t\t\t10 - ['-', '2'] [11]\n",
      "\t\t\t\t\t\t\t\t\t\t\t11 - ['2'] [6]\n",
      "\t\t\t\t\t\t\t\t\t\t\t11 - ['-'] [5]\n",
      "\t\t\t\t\t\t\t\t\t\t10 - ['T'] [11]\n",
      "\t\t\t\t\t\t\t7 - ['w'] [95]\n",
      "\t\t\t\t4 - ['t'] [790]\n",
      "\t\t\t3 - [' '] [1439]\n",
      "\t\t2 - ['y', 'g', 'a', 'd', 'A', 'p', 'f', ')', 'c', 'i', 'x'] [2632]\n",
      "\t\t\t3 - ['y', 'g', 'd', 'A', 'p', 'f', ')', 'c', 'x'] [1368]\n",
      "\t\t\t\t4 - ['y', 'd', 'A', 'f', ')', 'x'] [721]\n",
      "\t\t\t\t\t5 - ['d'] [373]\n",
      "\t\t\t\t\t5 - ['y', 'A', 'f', ')', 'x'] [348]\n",
      "\t\t\t\t\t\t6 - ['y', 'x', 'A', ')'] [174]\n",
      "\t\t\t\t\t\t\t7 - ['y'] [89]\n",
      "\t\t\t\t\t\t\t7 - [')', 'x', 'A'] [85]\n",
      "\t\t\t\t\t\t\t\t8 - [')', 'x'] [43]\n",
      "\t\t\t\t\t\t\t\t\t9 - ['x'] [22]\n",
      "\t\t\t\t\t\t\t\t\t9 - [')'] [21]\n",
      "\t\t\t\t\t\t\t\t8 - ['A'] [42]\n",
      "\t\t\t\t\t\t6 - ['f'] [174]\n",
      "\t\t\t\t4 - ['c', 'g', 'p'] [647]\n",
      "\t\t\t\t\t5 - ['c'] [333]\n",
      "\t\t\t\t\t5 - ['g', 'p'] [314]\n",
      "\t\t\t\t\t\t6 - ['p'] [167]\n",
      "\t\t\t\t\t\t6 - ['g'] [147]\n",
      "\t\t\t3 - ['a', 'i'] [1264]\n",
      "\t\t\t\t4 - ['i'] [644]\n",
      "\t\t\t\t4 - ['a'] [620]\n",
      "\t1 - ['j', 'h', 'S', '7', 'E', '/', '\"', 'L', 'r', '5', 'I', 'o', 'e', '\\n', 'u', '0', 'F', 'v', '9', 'B', 'l', 's', 'H', '6', \"'\", 'O', '8', 'n', 'R', '4', 'M', 'q'] [4191]\n",
      "\t\t2 - ['j', 'S', '7', 'E', '/', '\"', 'L', '5', 'I', 'o', '\\n', 'u', '0', 'F', 'v', '9', 'B', 's', 'H', '6', \"'\", 'O', '8', 'n', 'R', '4', 'M', 'q'] [2300]\n",
      "\t\t\t3 - ['o', 'n'] [1230]\n",
      "\t\t\t\t4 - ['o'] [615]\n",
      "\t\t\t\t4 - ['n'] [615]\n",
      "\t\t\t3 - ['j', 'S', '7', 'E', '/', '\"', 'L', '5', 'I', '\\n', 'u', '0', 'F', 'v', '9', 'B', 's', 'H', '6', \"'\", 'O', '8', 'R', '4', 'M', 'q'] [1070]\n",
      "\t\t\t\t4 - ['s'] [542]\n",
      "\t\t\t\t4 - ['j', 'S', '7', 'E', '/', '\"', 'L', '5', 'I', '\\n', 'u', '0', 'F', 'v', '9', 'B', 'H', '6', \"'\", 'O', '8', 'R', '4', 'M', 'q'] [528]\n",
      "\t\t\t\t\t5 - ['u'] [265]\n",
      "\t\t\t\t\t5 - ['j', 'S', '7', 'E', '/', '\"', 'L', '5', 'I', '\\n', '0', 'F', 'v', '9', 'B', 'H', '6', \"'\", 'O', '8', 'R', '4', 'M', 'q'] [263]\n",
      "\t\t\t\t\t\t6 - ['B', 'j', '5', 'L', '4', '7', 'E', '0', 'H', '6', '/', '9', 'O', 'v', '8', 'M', 'q'] [138]\n",
      "\t\t\t\t\t\t\t7 - ['B', 'j', '5', 'q', '8', '7', 'E', '0', 'H', '6', '/', '9', 'O', '4', 'M', 'L'] [71]\n",
      "\t\t\t\t\t\t\t\t8 - ['j', 'E', 'H', '9', '4', 'L'] [38]\n",
      "\t\t\t\t\t\t\t\t\t9 - ['E', '4', 'H', '9'] [20]\n",
      "\t\t\t\t\t\t\t\t\t\t10 - ['E', '4'] [10]\n",
      "\t\t\t\t\t\t\t\t\t\t\t11 - ['E'] [5]\n",
      "\t\t\t\t\t\t\t\t\t\t\t11 - ['4'] [5]\n",
      "\t\t\t\t\t\t\t\t\t\t10 - ['H', '9'] [10]\n",
      "\t\t\t\t\t\t\t\t\t\t\t11 - ['H'] [5]\n",
      "\t\t\t\t\t\t\t\t\t\t\t11 - ['9'] [5]\n",
      "\t\t\t\t\t\t\t\t\t9 - ['j', 'L'] [18]\n",
      "\t\t\t\t\t\t\t\t\t\t10 - ['j'] [9]\n",
      "\t\t\t\t\t\t\t\t\t\t10 - ['L'] [9]\n",
      "\t\t\t\t\t\t\t\t8 - ['B', '5', '8', '7', '0', '6', 'O', '/', 'M', 'q'] [33]\n",
      "\t\t\t\t\t\t\t\t\t9 - ['M'] [17]\n",
      "\t\t\t\t\t\t\t\t\t9 - ['B', '5', '7', '0', '/', '6', 'O', '8', 'q'] [16]\n",
      "\t\t\t\t\t\t\t\t\t\t10 - ['B', '7', '0', 'O', '8', 'q'] [8]\n",
      "\t\t\t\t\t\t\t\t\t\t\t11 - ['B', '0', '8', 'O'] [4]\n",
      "\t\t\t\t\t\t\t\t\t\t\t\t12 - ['B', 'O'] [2]\n",
      "\t\t\t\t\t\t\t\t\t\t\t\t\t13 - ['O'] [1]\n",
      "\t\t\t\t\t\t\t\t\t\t\t\t\t13 - ['B'] [1]\n",
      "\t\t\t\t\t\t\t\t\t\t\t\t12 - ['0', '8'] [2]\n",
      "\t\t\t\t\t\t\t\t\t\t\t\t\t13 - ['0'] [1]\n",
      "\t\t\t\t\t\t\t\t\t\t\t\t\t13 - ['8'] [1]\n",
      "\t\t\t\t\t\t\t\t\t\t\t11 - ['q', '7'] [4]\n",
      "\t\t\t\t\t\t\t\t\t\t\t\t12 - ['q'] [2]\n",
      "\t\t\t\t\t\t\t\t\t\t\t\t12 - ['7'] [2]\n",
      "\t\t\t\t\t\t\t\t\t\t10 - ['/', '5', '6'] [8]\n",
      "\t\t\t\t\t\t\t\t\t\t\t11 - ['/', '5'] [4]\n",
      "\t\t\t\t\t\t\t\t\t\t\t\t12 - ['5'] [2]\n",
      "\t\t\t\t\t\t\t\t\t\t\t\t12 - ['/'] [2]\n",
      "\t\t\t\t\t\t\t\t\t\t\t11 - ['6'] [4]\n",
      "\t\t\t\t\t\t\t7 - ['v'] [67]\n",
      "\t\t\t\t\t\t6 - ['I', 'S', '\\n', 'F', 'R', \"'\", '\"'] [125]\n",
      "\t\t\t\t\t\t\t7 - ['I', 'S', 'F', 'R', \"'\", '\"'] [64]\n",
      "\t\t\t\t\t\t\t\t8 - ['F', 'R', '\"', \"'\"] [32]\n",
      "\t\t\t\t\t\t\t\t\t9 - ['F', '\"'] [16]\n",
      "\t\t\t\t\t\t\t\t\t\t10 - ['F'] [8]\n",
      "\t\t\t\t\t\t\t\t\t\t10 - ['\"'] [8]\n",
      "\t\t\t\t\t\t\t\t\t9 - ['R', \"'\"] [16]\n",
      "\t\t\t\t\t\t\t\t\t\t10 - ['R'] [8]\n",
      "\t\t\t\t\t\t\t\t\t\t10 - [\"'\"] [8]\n",
      "\t\t\t\t\t\t\t\t8 - ['S', 'I'] [32]\n",
      "\t\t\t\t\t\t\t\t\t9 - ['S'] [16]\n",
      "\t\t\t\t\t\t\t\t\t9 - ['I'] [16]\n",
      "\t\t\t\t\t\t\t7 - ['\\n'] [61]\n",
      "\t\t2 - ['r', 'e', 'l', 'h'] [1891]\n",
      "\t\t\t3 - ['h', 'r', 'l'] [967]\n",
      "\t\t\t\t4 - ['l', 'h'] [484]\n",
      "\t\t\t\t\t5 - ['h'] [243]\n",
      "\t\t\t\t\t5 - ['l'] [241]\n",
      "\t\t\t\t4 - ['r'] [483]\n",
      "\t\t\t3 - ['e'] [924]\n"
     ]
    }
   ],
   "source": [
    "tree_from_file_2(file_name)"
   ]
  }
 ],
 "metadata": {
  "kernelspec": {
   "display_name": "Python 3",
   "language": "python",
   "name": "python3"
  },
  "language_info": {
   "codemirror_mode": {
    "name": "ipython",
    "version": 3
   },
   "file_extension": ".py",
   "mimetype": "text/x-python",
   "name": "python",
   "nbconvert_exporter": "python",
   "pygments_lexer": "ipython3",
   "version": "3.11.3"
  }
 },
 "nbformat": 4,
 "nbformat_minor": 2
}
